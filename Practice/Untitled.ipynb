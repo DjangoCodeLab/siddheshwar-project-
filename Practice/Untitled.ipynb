{
 "cells": [
  {
   "cell_type": "code",
   "execution_count": 1,
   "id": "a51b2dc8",
   "metadata": {},
   "outputs": [],
   "source": [
    "import pandas as pd\n",
    "import matplotlib.pyplot as plt\n",
    "import seaborn as sns\n"
   ]
  },
  {
   "cell_type": "code",
   "execution_count": 2,
   "id": "a1b1aaf2",
   "metadata": {},
   "outputs": [],
   "source": [
    "df = pd.read_csv('Sales Record.csv')\n",
    "pd.options.display.float_format = '{:.2f}'.format"
   ]
  },
  {
   "cell_type": "code",
   "execution_count": 3,
   "id": "e33fbf9e",
   "metadata": {},
   "outputs": [
    {
     "data": {
      "text/plain": [
       "Index(['Region', 'Country', 'Item Type', 'Sales Channel', 'Order Priority',\n",
       "       'Order Date', 'Order ID', 'Ship Date', 'Units Sold', 'Unit Price',\n",
       "       'Unit Cost', 'Total Revenue', 'Total Cost', 'Total Profit'],\n",
       "      dtype='object')"
      ]
     },
     "execution_count": 3,
     "metadata": {},
     "output_type": "execute_result"
    }
   ],
   "source": [
    "df.columns"
   ]
  },
  {
   "cell_type": "code",
   "execution_count": 4,
   "id": "28e83f19",
   "metadata": {},
   "outputs": [
    {
     "data": {
      "text/plain": [
       "Total Revenue   133606673066.41\n",
       "Total Profit     39409123729.61\n",
       "Total Cost       94197549336.80\n",
       "dtype: float64"
      ]
     },
     "execution_count": 4,
     "metadata": {},
     "output_type": "execute_result"
    }
   ],
   "source": [
    "df.agg({\n",
    "    'Total Revenue': 'sum',\n",
    "    'Total Profit': 'sum',\n",
    "    'Total Cost': 'sum'\n",
    "})"
   ]
  },
  {
   "cell_type": "markdown",
   "id": "7e588d0a",
   "metadata": {},
   "source": [
    "## Conclusion\n",
    "    1. Total Revenue of Krishna Cart company is : 133 billion (Caror)\n",
    "    2. Total Profit of Krishna Cart comapny is:39 billion (Caror)\n",
    "    3. Total Cost of Krishna Cart Comapny  is: 94 billion (Caror)\n",
    "   "
   ]
  },
  {
   "cell_type": "code",
   "execution_count": 5,
   "id": "1d152b8f",
   "metadata": {},
   "outputs": [
    {
     "name": "stdout",
     "output_type": "stream",
     "text": [
      "<class 'pandas.core.frame.DataFrame'>\n",
      "RangeIndex: 100000 entries, 0 to 99999\n",
      "Data columns (total 14 columns):\n",
      " #   Column          Non-Null Count   Dtype  \n",
      "---  ------          --------------   -----  \n",
      " 0   Region          100000 non-null  object \n",
      " 1   Country         100000 non-null  object \n",
      " 2   Item Type       100000 non-null  object \n",
      " 3   Sales Channel   100000 non-null  object \n",
      " 4   Order Priority  100000 non-null  object \n",
      " 5   Order Date      100000 non-null  object \n",
      " 6   Order ID        100000 non-null  int64  \n",
      " 7   Ship Date       100000 non-null  object \n",
      " 8   Units Sold      100000 non-null  int64  \n",
      " 9   Unit Price      100000 non-null  float64\n",
      " 10  Unit Cost       100000 non-null  float64\n",
      " 11  Total Revenue   100000 non-null  float64\n",
      " 12  Total Cost      100000 non-null  float64\n",
      " 13  Total Profit    100000 non-null  float64\n",
      "dtypes: float64(5), int64(2), object(7)\n",
      "memory usage: 10.7+ MB\n"
     ]
    }
   ],
   "source": [
    "df.info()"
   ]
  },
  {
   "cell_type": "code",
   "execution_count": 6,
   "id": "c3278cff",
   "metadata": {},
   "outputs": [],
   "source": [
    "df['Order Date'] = df['Order Date'].str.replace('-', '/')"
   ]
  },
  {
   "cell_type": "code",
   "execution_count": 7,
   "id": "09c68d7e",
   "metadata": {},
   "outputs": [
    {
     "data": {
      "text/plain": [
       "0        10/08/2014\n",
       "1         2/22/2015\n",
       "2        12/09/2015\n",
       "3         9/17/2014\n",
       "4        02/04/2010\n",
       "            ...    \n",
       "99995     8/26/2012\n",
       "99996    12/03/2013\n",
       "99997    08/07/2013\n",
       "99998     6/28/2011\n",
       "99999    04/03/2012\n",
       "Name: Order Date, Length: 100000, dtype: object"
      ]
     },
     "execution_count": 7,
     "metadata": {},
     "output_type": "execute_result"
    }
   ],
   "source": [
    "df['Order Date']"
   ]
  },
  {
   "cell_type": "code",
   "execution_count": 8,
   "id": "3ac7b747",
   "metadata": {},
   "outputs": [],
   "source": [
    "df['Order Date'] = pd.to_datetime(df['Order Date'], format = \"%m/%d/%Y\")"
   ]
  },
  {
   "cell_type": "code",
   "execution_count": 9,
   "id": "41a55961",
   "metadata": {},
   "outputs": [
    {
     "data": {
      "text/plain": [
       "0       2014-10-08\n",
       "1       2015-02-22\n",
       "2       2015-12-09\n",
       "3       2014-09-17\n",
       "4       2010-02-04\n",
       "           ...    \n",
       "99995   2012-08-26\n",
       "99996   2013-12-03\n",
       "99997   2013-08-07\n",
       "99998   2011-06-28\n",
       "99999   2012-04-03\n",
       "Name: Order Date, Length: 100000, dtype: datetime64[ns]"
      ]
     },
     "execution_count": 9,
     "metadata": {},
     "output_type": "execute_result"
    }
   ],
   "source": [
    "df['Order Date']"
   ]
  },
  {
   "cell_type": "code",
   "execution_count": 10,
   "id": "015bb834",
   "metadata": {},
   "outputs": [
    {
     "name": "stdout",
     "output_type": "stream",
     "text": [
      "<class 'pandas.core.frame.DataFrame'>\n",
      "RangeIndex: 100000 entries, 0 to 99999\n",
      "Data columns (total 14 columns):\n",
      " #   Column          Non-Null Count   Dtype         \n",
      "---  ------          --------------   -----         \n",
      " 0   Region          100000 non-null  object        \n",
      " 1   Country         100000 non-null  object        \n",
      " 2   Item Type       100000 non-null  object        \n",
      " 3   Sales Channel   100000 non-null  object        \n",
      " 4   Order Priority  100000 non-null  object        \n",
      " 5   Order Date      100000 non-null  datetime64[ns]\n",
      " 6   Order ID        100000 non-null  int64         \n",
      " 7   Ship Date       100000 non-null  object        \n",
      " 8   Units Sold      100000 non-null  int64         \n",
      " 9   Unit Price      100000 non-null  float64       \n",
      " 10  Unit Cost       100000 non-null  float64       \n",
      " 11  Total Revenue   100000 non-null  float64       \n",
      " 12  Total Cost      100000 non-null  float64       \n",
      " 13  Total Profit    100000 non-null  float64       \n",
      "dtypes: datetime64[ns](1), float64(5), int64(2), object(6)\n",
      "memory usage: 10.7+ MB\n"
     ]
    }
   ],
   "source": [
    "df.info()"
   ]
  },
  {
   "cell_type": "code",
   "execution_count": 11,
   "id": "f5fe63b3",
   "metadata": {},
   "outputs": [],
   "source": [
    "df['Ship Date']= df['Ship Date'].str.replace('-','/')"
   ]
  },
  {
   "cell_type": "code",
   "execution_count": 12,
   "id": "9bfbc388",
   "metadata": {},
   "outputs": [
    {
     "data": {
      "text/plain": [
       "0        10/23/2014\n",
       "1         2/27/2015\n",
       "2         1/18/2016\n",
       "3        10/12/2014\n",
       "4        03/05/2010\n",
       "            ...    \n",
       "99995    09/11/2012\n",
       "99996    12/10/2013\n",
       "99997     8/31/2013\n",
       "99998    07/03/2011\n",
       "99999     4/30/2012\n",
       "Name: Ship Date, Length: 100000, dtype: object"
      ]
     },
     "execution_count": 12,
     "metadata": {},
     "output_type": "execute_result"
    }
   ],
   "source": [
    "df['Ship Date']"
   ]
  },
  {
   "cell_type": "code",
   "execution_count": 13,
   "id": "1e28cfa1",
   "metadata": {},
   "outputs": [],
   "source": [
    "df['Ship Date'] = pd.to_datetime(df['Ship Date'], format = \"%m/%d/%Y\")"
   ]
  },
  {
   "cell_type": "code",
   "execution_count": 14,
   "id": "a96bf224",
   "metadata": {},
   "outputs": [
    {
     "name": "stdout",
     "output_type": "stream",
     "text": [
      "<class 'pandas.core.frame.DataFrame'>\n",
      "RangeIndex: 100000 entries, 0 to 99999\n",
      "Data columns (total 14 columns):\n",
      " #   Column          Non-Null Count   Dtype         \n",
      "---  ------          --------------   -----         \n",
      " 0   Region          100000 non-null  object        \n",
      " 1   Country         100000 non-null  object        \n",
      " 2   Item Type       100000 non-null  object        \n",
      " 3   Sales Channel   100000 non-null  object        \n",
      " 4   Order Priority  100000 non-null  object        \n",
      " 5   Order Date      100000 non-null  datetime64[ns]\n",
      " 6   Order ID        100000 non-null  int64         \n",
      " 7   Ship Date       100000 non-null  datetime64[ns]\n",
      " 8   Units Sold      100000 non-null  int64         \n",
      " 9   Unit Price      100000 non-null  float64       \n",
      " 10  Unit Cost       100000 non-null  float64       \n",
      " 11  Total Revenue   100000 non-null  float64       \n",
      " 12  Total Cost      100000 non-null  float64       \n",
      " 13  Total Profit    100000 non-null  float64       \n",
      "dtypes: datetime64[ns](2), float64(5), int64(2), object(5)\n",
      "memory usage: 10.7+ MB\n"
     ]
    }
   ],
   "source": [
    "df.info()"
   ]
  },
  {
   "cell_type": "code",
   "execution_count": 15,
   "id": "73afdb46",
   "metadata": {},
   "outputs": [],
   "source": [
    "df['month'] = df['Order Date'].dt.month_name()\n"
   ]
  },
  {
   "cell_type": "code",
   "execution_count": 16,
   "id": "f0ce7708",
   "metadata": {},
   "outputs": [],
   "source": [
    "df['year'] =  df['Order Date'].dt.year"
   ]
  },
  {
   "cell_type": "code",
   "execution_count": 17,
   "id": "0a23facf",
   "metadata": {},
   "outputs": [
    {
     "data": {
      "text/html": [
       "<div>\n",
       "<style scoped>\n",
       "    .dataframe tbody tr th:only-of-type {\n",
       "        vertical-align: middle;\n",
       "    }\n",
       "\n",
       "    .dataframe tbody tr th {\n",
       "        vertical-align: top;\n",
       "    }\n",
       "\n",
       "    .dataframe thead th {\n",
       "        text-align: right;\n",
       "    }\n",
       "</style>\n",
       "<table border=\"1\" class=\"dataframe\">\n",
       "  <thead>\n",
       "    <tr style=\"text-align: right;\">\n",
       "      <th></th>\n",
       "      <th>year</th>\n",
       "      <th>Total Revenue</th>\n",
       "    </tr>\n",
       "  </thead>\n",
       "  <tbody>\n",
       "    <tr>\n",
       "      <th>0</th>\n",
       "      <td>2010</td>\n",
       "      <td>1493974690.37</td>\n",
       "    </tr>\n",
       "    <tr>\n",
       "      <th>1</th>\n",
       "      <td>2010</td>\n",
       "      <td>1607025923.59</td>\n",
       "    </tr>\n",
       "    <tr>\n",
       "      <th>2</th>\n",
       "      <td>2010</td>\n",
       "      <td>1406262507.72</td>\n",
       "    </tr>\n",
       "    <tr>\n",
       "      <th>3</th>\n",
       "      <td>2010</td>\n",
       "      <td>1351908048.52</td>\n",
       "    </tr>\n",
       "    <tr>\n",
       "      <th>4</th>\n",
       "      <td>2010</td>\n",
       "      <td>1431090213.32</td>\n",
       "    </tr>\n",
       "    <tr>\n",
       "      <th>...</th>\n",
       "      <td>...</td>\n",
       "      <td>...</td>\n",
       "    </tr>\n",
       "    <tr>\n",
       "      <th>86</th>\n",
       "      <td>2017</td>\n",
       "      <td>1447152933.44</td>\n",
       "    </tr>\n",
       "    <tr>\n",
       "      <th>87</th>\n",
       "      <td>2017</td>\n",
       "      <td>1445914072.13</td>\n",
       "    </tr>\n",
       "    <tr>\n",
       "      <th>88</th>\n",
       "      <td>2017</td>\n",
       "      <td>1417574392.32</td>\n",
       "    </tr>\n",
       "    <tr>\n",
       "      <th>89</th>\n",
       "      <td>2017</td>\n",
       "      <td>1386584363.88</td>\n",
       "    </tr>\n",
       "    <tr>\n",
       "      <th>90</th>\n",
       "      <td>2017</td>\n",
       "      <td>1536494606.77</td>\n",
       "    </tr>\n",
       "  </tbody>\n",
       "</table>\n",
       "<p>91 rows × 2 columns</p>\n",
       "</div>"
      ],
      "text/plain": [
       "    year  Total Revenue\n",
       "0   2010  1493974690.37\n",
       "1   2010  1607025923.59\n",
       "2   2010  1406262507.72\n",
       "3   2010  1351908048.52\n",
       "4   2010  1431090213.32\n",
       "..   ...            ...\n",
       "86  2017  1447152933.44\n",
       "87  2017  1445914072.13\n",
       "88  2017  1417574392.32\n",
       "89  2017  1386584363.88\n",
       "90  2017  1536494606.77\n",
       "\n",
       "[91 rows x 2 columns]"
      ]
     },
     "execution_count": 17,
     "metadata": {},
     "output_type": "execute_result"
    }
   ],
   "source": [
    "import calendar\n",
    "month_vise_revenue = df.groupby(['year','month'])['Total Revenue'].sum().reset_index()\n",
    "month_vise_revenue[['year', 'Total Revenue']]"
   ]
  },
  {
   "cell_type": "code",
   "execution_count": 18,
   "id": "bc7081a8",
   "metadata": {},
   "outputs": [
    {
     "data": {
      "text/plain": [
       "year                     2017\n",
       "month               September\n",
       "Total Revenue   1672472823.19\n",
       "dtype: object"
      ]
     },
     "execution_count": 18,
     "metadata": {},
     "output_type": "execute_result"
    }
   ],
   "source": [
    "month_vise_revenue.max()"
   ]
  },
  {
   "cell_type": "code",
   "execution_count": 19,
   "id": "f1324f0b",
   "metadata": {},
   "outputs": [
    {
     "data": {
      "text/html": [
       "<div>\n",
       "<style scoped>\n",
       "    .dataframe tbody tr th:only-of-type {\n",
       "        vertical-align: middle;\n",
       "    }\n",
       "\n",
       "    .dataframe tbody tr th {\n",
       "        vertical-align: top;\n",
       "    }\n",
       "\n",
       "    .dataframe thead th {\n",
       "        text-align: right;\n",
       "    }\n",
       "</style>\n",
       "<table border=\"1\" class=\"dataframe\">\n",
       "  <thead>\n",
       "    <tr style=\"text-align: right;\">\n",
       "      <th></th>\n",
       "      <th>Region</th>\n",
       "      <th>Country</th>\n",
       "      <th>Item Type</th>\n",
       "      <th>Sales Channel</th>\n",
       "      <th>Order Priority</th>\n",
       "      <th>Order Date</th>\n",
       "      <th>Order ID</th>\n",
       "      <th>Ship Date</th>\n",
       "      <th>Units Sold</th>\n",
       "      <th>Unit Price</th>\n",
       "      <th>Unit Cost</th>\n",
       "      <th>Total Revenue</th>\n",
       "      <th>Total Cost</th>\n",
       "      <th>Total Profit</th>\n",
       "      <th>month</th>\n",
       "      <th>year</th>\n",
       "    </tr>\n",
       "  </thead>\n",
       "  <tbody>\n",
       "    <tr>\n",
       "      <th>0</th>\n",
       "      <td>Middle East and North Africa</td>\n",
       "      <td>Azerbaijan</td>\n",
       "      <td>Snacks</td>\n",
       "      <td>Online</td>\n",
       "      <td>C</td>\n",
       "      <td>2014-10-08</td>\n",
       "      <td>535113847</td>\n",
       "      <td>2014-10-23</td>\n",
       "      <td>934</td>\n",
       "      <td>152.58</td>\n",
       "      <td>97.44</td>\n",
       "      <td>142509.72</td>\n",
       "      <td>91008.96</td>\n",
       "      <td>51500.76</td>\n",
       "      <td>October</td>\n",
       "      <td>2014</td>\n",
       "    </tr>\n",
       "    <tr>\n",
       "      <th>1</th>\n",
       "      <td>Central America and the Caribbean</td>\n",
       "      <td>Panama</td>\n",
       "      <td>Cosmetics</td>\n",
       "      <td>Offline</td>\n",
       "      <td>L</td>\n",
       "      <td>2015-02-22</td>\n",
       "      <td>874708545</td>\n",
       "      <td>2015-02-27</td>\n",
       "      <td>4551</td>\n",
       "      <td>437.20</td>\n",
       "      <td>263.33</td>\n",
       "      <td>1989697.20</td>\n",
       "      <td>1198414.83</td>\n",
       "      <td>791282.37</td>\n",
       "      <td>February</td>\n",
       "      <td>2015</td>\n",
       "    </tr>\n",
       "    <tr>\n",
       "      <th>2</th>\n",
       "      <td>Sub-Saharan Africa</td>\n",
       "      <td>Sao Tome and Principe</td>\n",
       "      <td>Fruits</td>\n",
       "      <td>Offline</td>\n",
       "      <td>M</td>\n",
       "      <td>2015-12-09</td>\n",
       "      <td>854349935</td>\n",
       "      <td>2016-01-18</td>\n",
       "      <td>9986</td>\n",
       "      <td>9.33</td>\n",
       "      <td>6.92</td>\n",
       "      <td>93169.38</td>\n",
       "      <td>69103.12</td>\n",
       "      <td>24066.26</td>\n",
       "      <td>December</td>\n",
       "      <td>2015</td>\n",
       "    </tr>\n",
       "    <tr>\n",
       "      <th>3</th>\n",
       "      <td>Sub-Saharan Africa</td>\n",
       "      <td>Sao Tome and Principe</td>\n",
       "      <td>Personal Care</td>\n",
       "      <td>Online</td>\n",
       "      <td>M</td>\n",
       "      <td>2014-09-17</td>\n",
       "      <td>892836844</td>\n",
       "      <td>2014-10-12</td>\n",
       "      <td>9118</td>\n",
       "      <td>81.73</td>\n",
       "      <td>56.67</td>\n",
       "      <td>745214.14</td>\n",
       "      <td>516717.06</td>\n",
       "      <td>228497.08</td>\n",
       "      <td>September</td>\n",
       "      <td>2014</td>\n",
       "    </tr>\n",
       "    <tr>\n",
       "      <th>4</th>\n",
       "      <td>Central America and the Caribbean</td>\n",
       "      <td>Belize</td>\n",
       "      <td>Household</td>\n",
       "      <td>Offline</td>\n",
       "      <td>H</td>\n",
       "      <td>2010-02-04</td>\n",
       "      <td>129280602</td>\n",
       "      <td>2010-03-05</td>\n",
       "      <td>5858</td>\n",
       "      <td>668.27</td>\n",
       "      <td>502.54</td>\n",
       "      <td>3914725.66</td>\n",
       "      <td>2943879.32</td>\n",
       "      <td>970846.34</td>\n",
       "      <td>February</td>\n",
       "      <td>2010</td>\n",
       "    </tr>\n",
       "  </tbody>\n",
       "</table>\n",
       "</div>"
      ],
      "text/plain": [
       "                              Region                Country      Item Type  \\\n",
       "0       Middle East and North Africa             Azerbaijan         Snacks   \n",
       "1  Central America and the Caribbean                 Panama      Cosmetics   \n",
       "2                 Sub-Saharan Africa  Sao Tome and Principe         Fruits   \n",
       "3                 Sub-Saharan Africa  Sao Tome and Principe  Personal Care   \n",
       "4  Central America and the Caribbean                 Belize      Household   \n",
       "\n",
       "  Sales Channel Order Priority Order Date   Order ID  Ship Date  Units Sold  \\\n",
       "0        Online              C 2014-10-08  535113847 2014-10-23         934   \n",
       "1       Offline              L 2015-02-22  874708545 2015-02-27        4551   \n",
       "2       Offline              M 2015-12-09  854349935 2016-01-18        9986   \n",
       "3        Online              M 2014-09-17  892836844 2014-10-12        9118   \n",
       "4       Offline              H 2010-02-04  129280602 2010-03-05        5858   \n",
       "\n",
       "   Unit Price  Unit Cost  Total Revenue  Total Cost  Total Profit      month  \\\n",
       "0      152.58      97.44      142509.72    91008.96      51500.76    October   \n",
       "1      437.20     263.33     1989697.20  1198414.83     791282.37   February   \n",
       "2        9.33       6.92       93169.38    69103.12      24066.26   December   \n",
       "3       81.73      56.67      745214.14   516717.06     228497.08  September   \n",
       "4      668.27     502.54     3914725.66  2943879.32     970846.34   February   \n",
       "\n",
       "   year  \n",
       "0  2014  \n",
       "1  2015  \n",
       "2  2015  \n",
       "3  2014  \n",
       "4  2010  "
      ]
     },
     "execution_count": 19,
     "metadata": {},
     "output_type": "execute_result"
    }
   ],
   "source": [
    "df.head()"
   ]
  },
  {
   "cell_type": "code",
   "execution_count": 20,
   "id": "e60ed310",
   "metadata": {},
   "outputs": [
    {
     "data": {
      "text/plain": [
       "0        2014\n",
       "1        2015\n",
       "2        2015\n",
       "3        2014\n",
       "4        2010\n",
       "         ... \n",
       "99995    2012\n",
       "99996    2013\n",
       "99997    2013\n",
       "99998    2011\n",
       "99999    2012\n",
       "Name: year, Length: 100000, dtype: int64"
      ]
     },
     "execution_count": 20,
     "metadata": {},
     "output_type": "execute_result"
    }
   ],
   "source": [
    "df.year"
   ]
  },
  {
   "cell_type": "markdown",
   "id": "8619ce47",
   "metadata": {},
   "source": [
    "# The Year and Month wise Revenue analysis"
   ]
  },
  {
   "cell_type": "code",
   "execution_count": 21,
   "id": "9c05ac0a",
   "metadata": {},
   "outputs": [
    {
     "data": {
      "text/plain": [
       "year\n",
       "2010   17529726139.11\n",
       "2011   17519908165.12\n",
       "2012   17623679334.36\n",
       "2013   17805095960.63\n",
       "2014   17869392301.17\n",
       "2015   17791984263.13\n",
       "2016   17464067707.89\n",
       "2017   10002819195.00\n",
       "Name: Total Revenue, dtype: float64"
      ]
     },
     "execution_count": 21,
     "metadata": {},
     "output_type": "execute_result"
    }
   ],
   "source": [
    "df.groupby('year')['Total Revenue'].sum()"
   ]
  },
  {
   "cell_type": "code",
   "execution_count": 22,
   "id": "78faa53b",
   "metadata": {},
   "outputs": [
    {
     "data": {
      "text/plain": [
       "2014"
      ]
     },
     "execution_count": 22,
     "metadata": {},
     "output_type": "execute_result"
    }
   ],
   "source": [
    "df.groupby('year')['Total Revenue'].sum().idxmax()"
   ]
  },
  {
   "cell_type": "code",
   "execution_count": 23,
   "id": "55ed4843",
   "metadata": {},
   "outputs": [
    {
     "data": {
      "text/plain": [
       "17869392301.17"
      ]
     },
     "execution_count": 23,
     "metadata": {},
     "output_type": "execute_result"
    }
   ],
   "source": [
    "df.groupby('year')['Total Revenue'].sum().max()"
   ]
  },
  {
   "cell_type": "code",
   "execution_count": 24,
   "id": "86e4598d",
   "metadata": {},
   "outputs": [
    {
     "data": {
      "text/plain": [
       "2017"
      ]
     },
     "execution_count": 24,
     "metadata": {},
     "output_type": "execute_result"
    }
   ],
   "source": [
    "df.groupby('year')['Total Revenue'].sum().idxmin()"
   ]
  },
  {
   "cell_type": "code",
   "execution_count": 25,
   "id": "7bd7eedd",
   "metadata": {},
   "outputs": [
    {
     "data": {
      "text/plain": [
       "10002819195.0"
      ]
     },
     "execution_count": 25,
     "metadata": {},
     "output_type": "execute_result"
    }
   ],
   "source": [
    "df.groupby('year')['Total Revenue'].sum().min()"
   ]
  },
  {
   "cell_type": "markdown",
   "id": "6527d6b1",
   "metadata": {},
   "source": [
    "### Conclusion:\n",
    "    1.In 2014 has more revenue i.e 17 billion\n",
    "    2.In 2017 has less revenue i.e 10 billion\n",
    "   "
   ]
  },
  {
   "cell_type": "code",
   "execution_count": 26,
   "id": "e324edf2",
   "metadata": {},
   "outputs": [],
   "source": [
    "data = df.groupby(['year', 'month'])[\"Total Revenue\"].sum().reset_index()"
   ]
  },
  {
   "cell_type": "code",
   "execution_count": 27,
   "id": "82f01d3b",
   "metadata": {},
   "outputs": [
    {
     "data": {
      "text/html": [
       "<div>\n",
       "<style scoped>\n",
       "    .dataframe tbody tr th:only-of-type {\n",
       "        vertical-align: middle;\n",
       "    }\n",
       "\n",
       "    .dataframe tbody tr th {\n",
       "        vertical-align: top;\n",
       "    }\n",
       "\n",
       "    .dataframe thead th {\n",
       "        text-align: right;\n",
       "    }\n",
       "</style>\n",
       "<table border=\"1\" class=\"dataframe\">\n",
       "  <thead>\n",
       "    <tr style=\"text-align: right;\">\n",
       "      <th></th>\n",
       "      <th>year</th>\n",
       "      <th>month</th>\n",
       "      <th>Total Revenue</th>\n",
       "    </tr>\n",
       "  </thead>\n",
       "  <tbody>\n",
       "    <tr>\n",
       "      <th>0</th>\n",
       "      <td>2010</td>\n",
       "      <td>April</td>\n",
       "      <td>1493974690.37</td>\n",
       "    </tr>\n",
       "    <tr>\n",
       "      <th>1</th>\n",
       "      <td>2010</td>\n",
       "      <td>August</td>\n",
       "      <td>1607025923.59</td>\n",
       "    </tr>\n",
       "    <tr>\n",
       "      <th>2</th>\n",
       "      <td>2010</td>\n",
       "      <td>December</td>\n",
       "      <td>1406262507.72</td>\n",
       "    </tr>\n",
       "    <tr>\n",
       "      <th>3</th>\n",
       "      <td>2010</td>\n",
       "      <td>February</td>\n",
       "      <td>1351908048.52</td>\n",
       "    </tr>\n",
       "    <tr>\n",
       "      <th>4</th>\n",
       "      <td>2010</td>\n",
       "      <td>January</td>\n",
       "      <td>1431090213.32</td>\n",
       "    </tr>\n",
       "    <tr>\n",
       "      <th>...</th>\n",
       "      <td>...</td>\n",
       "      <td>...</td>\n",
       "      <td>...</td>\n",
       "    </tr>\n",
       "    <tr>\n",
       "      <th>86</th>\n",
       "      <td>2017</td>\n",
       "      <td>January</td>\n",
       "      <td>1447152933.44</td>\n",
       "    </tr>\n",
       "    <tr>\n",
       "      <th>87</th>\n",
       "      <td>2017</td>\n",
       "      <td>July</td>\n",
       "      <td>1445914072.13</td>\n",
       "    </tr>\n",
       "    <tr>\n",
       "      <th>88</th>\n",
       "      <td>2017</td>\n",
       "      <td>June</td>\n",
       "      <td>1417574392.32</td>\n",
       "    </tr>\n",
       "    <tr>\n",
       "      <th>89</th>\n",
       "      <td>2017</td>\n",
       "      <td>March</td>\n",
       "      <td>1386584363.88</td>\n",
       "    </tr>\n",
       "    <tr>\n",
       "      <th>90</th>\n",
       "      <td>2017</td>\n",
       "      <td>May</td>\n",
       "      <td>1536494606.77</td>\n",
       "    </tr>\n",
       "  </tbody>\n",
       "</table>\n",
       "<p>91 rows × 3 columns</p>\n",
       "</div>"
      ],
      "text/plain": [
       "    year     month  Total Revenue\n",
       "0   2010     April  1493974690.37\n",
       "1   2010    August  1607025923.59\n",
       "2   2010  December  1406262507.72\n",
       "3   2010  February  1351908048.52\n",
       "4   2010   January  1431090213.32\n",
       "..   ...       ...            ...\n",
       "86  2017   January  1447152933.44\n",
       "87  2017      July  1445914072.13\n",
       "88  2017      June  1417574392.32\n",
       "89  2017     March  1386584363.88\n",
       "90  2017       May  1536494606.77\n",
       "\n",
       "[91 rows x 3 columns]"
      ]
     },
     "execution_count": 27,
     "metadata": {},
     "output_type": "execute_result"
    }
   ],
   "source": [
    "data"
   ]
  },
  {
   "cell_type": "code",
   "execution_count": 28,
   "id": "b67df757",
   "metadata": {},
   "outputs": [
    {
     "data": {
      "text/html": [
       "<div>\n",
       "<style scoped>\n",
       "    .dataframe tbody tr th:only-of-type {\n",
       "        vertical-align: middle;\n",
       "    }\n",
       "\n",
       "    .dataframe tbody tr th {\n",
       "        vertical-align: top;\n",
       "    }\n",
       "\n",
       "    .dataframe thead th {\n",
       "        text-align: right;\n",
       "    }\n",
       "</style>\n",
       "<table border=\"1\" class=\"dataframe\">\n",
       "  <thead>\n",
       "    <tr style=\"text-align: right;\">\n",
       "      <th></th>\n",
       "      <th>year</th>\n",
       "      <th>month</th>\n",
       "      <th>Total Revenue</th>\n",
       "    </tr>\n",
       "  </thead>\n",
       "  <tbody>\n",
       "    <tr>\n",
       "      <th>0</th>\n",
       "      <td>2010</td>\n",
       "      <td>April</td>\n",
       "      <td>1493974690.37</td>\n",
       "    </tr>\n",
       "    <tr>\n",
       "      <th>1</th>\n",
       "      <td>2010</td>\n",
       "      <td>August</td>\n",
       "      <td>1607025923.59</td>\n",
       "    </tr>\n",
       "    <tr>\n",
       "      <th>2</th>\n",
       "      <td>2010</td>\n",
       "      <td>December</td>\n",
       "      <td>1406262507.72</td>\n",
       "    </tr>\n",
       "    <tr>\n",
       "      <th>3</th>\n",
       "      <td>2010</td>\n",
       "      <td>February</td>\n",
       "      <td>1351908048.52</td>\n",
       "    </tr>\n",
       "    <tr>\n",
       "      <th>4</th>\n",
       "      <td>2010</td>\n",
       "      <td>January</td>\n",
       "      <td>1431090213.32</td>\n",
       "    </tr>\n",
       "  </tbody>\n",
       "</table>\n",
       "</div>"
      ],
      "text/plain": [
       "   year     month  Total Revenue\n",
       "0  2010     April  1493974690.37\n",
       "1  2010    August  1607025923.59\n",
       "2  2010  December  1406262507.72\n",
       "3  2010  February  1351908048.52\n",
       "4  2010   January  1431090213.32"
      ]
     },
     "execution_count": 28,
     "metadata": {},
     "output_type": "execute_result"
    }
   ],
   "source": [
    "data.head()"
   ]
  },
  {
   "cell_type": "code",
   "execution_count": 29,
   "id": "9ca50992",
   "metadata": {},
   "outputs": [],
   "source": [
    "data.to_csv('year_month_wise_data.csv', index = False)"
   ]
  },
  {
   "cell_type": "code",
   "execution_count": 30,
   "id": "6a22abe5",
   "metadata": {},
   "outputs": [
    {
     "data": {
      "text/html": [
       "<div>\n",
       "<style scoped>\n",
       "    .dataframe tbody tr th:only-of-type {\n",
       "        vertical-align: middle;\n",
       "    }\n",
       "\n",
       "    .dataframe tbody tr th {\n",
       "        vertical-align: top;\n",
       "    }\n",
       "\n",
       "    .dataframe thead th {\n",
       "        text-align: right;\n",
       "    }\n",
       "</style>\n",
       "<table border=\"1\" class=\"dataframe\">\n",
       "  <thead>\n",
       "    <tr style=\"text-align: right;\">\n",
       "      <th></th>\n",
       "      <th>year</th>\n",
       "      <th>Total Revenue</th>\n",
       "    </tr>\n",
       "  </thead>\n",
       "  <tbody>\n",
       "    <tr>\n",
       "      <th>count</th>\n",
       "      <td>91.00</td>\n",
       "      <td>91.00</td>\n",
       "    </tr>\n",
       "    <tr>\n",
       "      <th>mean</th>\n",
       "      <td>2013.31</td>\n",
       "      <td>1468205198.53</td>\n",
       "    </tr>\n",
       "    <tr>\n",
       "      <th>std</th>\n",
       "      <td>2.21</td>\n",
       "      <td>79361897.63</td>\n",
       "    </tr>\n",
       "    <tr>\n",
       "      <th>min</th>\n",
       "      <td>2010.00</td>\n",
       "      <td>1268096111.48</td>\n",
       "    </tr>\n",
       "    <tr>\n",
       "      <th>25%</th>\n",
       "      <td>2011.00</td>\n",
       "      <td>1419206559.01</td>\n",
       "    </tr>\n",
       "    <tr>\n",
       "      <th>50%</th>\n",
       "      <td>2013.00</td>\n",
       "      <td>1462505704.06</td>\n",
       "    </tr>\n",
       "    <tr>\n",
       "      <th>75%</th>\n",
       "      <td>2015.00</td>\n",
       "      <td>1520594013.88</td>\n",
       "    </tr>\n",
       "    <tr>\n",
       "      <th>max</th>\n",
       "      <td>2017.00</td>\n",
       "      <td>1672472823.19</td>\n",
       "    </tr>\n",
       "  </tbody>\n",
       "</table>\n",
       "</div>"
      ],
      "text/plain": [
       "         year  Total Revenue\n",
       "count   91.00          91.00\n",
       "mean  2013.31  1468205198.53\n",
       "std      2.21    79361897.63\n",
       "min   2010.00  1268096111.48\n",
       "25%   2011.00  1419206559.01\n",
       "50%   2013.00  1462505704.06\n",
       "75%   2015.00  1520594013.88\n",
       "max   2017.00  1672472823.19"
      ]
     },
     "execution_count": 30,
     "metadata": {},
     "output_type": "execute_result"
    }
   ],
   "source": [
    "data.describe()"
   ]
  },
  {
   "cell_type": "code",
   "execution_count": 31,
   "id": "fbb2a9f9",
   "metadata": {},
   "outputs": [
    {
     "data": {
      "text/plain": [
       "year                                                        183211\n",
       "month            AprilAugustDecemberFebruaryJanuaryJulyJuneMarc...\n",
       "Total Revenue                                      133606673066.41\n",
       "dtype: object"
      ]
     },
     "execution_count": 31,
     "metadata": {},
     "output_type": "execute_result"
    }
   ],
   "source": [
    "data.sum()"
   ]
  },
  {
   "cell_type": "code",
   "execution_count": 32,
   "id": "126a1d3c",
   "metadata": {},
   "outputs": [
    {
     "data": {
      "text/html": [
       "<div>\n",
       "<style scoped>\n",
       "    .dataframe tbody tr th:only-of-type {\n",
       "        vertical-align: middle;\n",
       "    }\n",
       "\n",
       "    .dataframe tbody tr th {\n",
       "        vertical-align: top;\n",
       "    }\n",
       "\n",
       "    .dataframe thead th {\n",
       "        text-align: right;\n",
       "    }\n",
       "</style>\n",
       "<table border=\"1\" class=\"dataframe\">\n",
       "  <thead>\n",
       "    <tr style=\"text-align: right;\">\n",
       "      <th></th>\n",
       "      <th>year</th>\n",
       "      <th>month</th>\n",
       "      <th>Total Revenue</th>\n",
       "    </tr>\n",
       "  </thead>\n",
       "  <tbody>\n",
       "    <tr>\n",
       "      <th>0</th>\n",
       "      <td>2014</td>\n",
       "      <td>October</td>\n",
       "      <td>142509.72</td>\n",
       "    </tr>\n",
       "    <tr>\n",
       "      <th>1</th>\n",
       "      <td>2015</td>\n",
       "      <td>February</td>\n",
       "      <td>1989697.20</td>\n",
       "    </tr>\n",
       "    <tr>\n",
       "      <th>2</th>\n",
       "      <td>2015</td>\n",
       "      <td>December</td>\n",
       "      <td>93169.38</td>\n",
       "    </tr>\n",
       "    <tr>\n",
       "      <th>3</th>\n",
       "      <td>2014</td>\n",
       "      <td>September</td>\n",
       "      <td>745214.14</td>\n",
       "    </tr>\n",
       "    <tr>\n",
       "      <th>4</th>\n",
       "      <td>2010</td>\n",
       "      <td>February</td>\n",
       "      <td>3914725.66</td>\n",
       "    </tr>\n",
       "    <tr>\n",
       "      <th>...</th>\n",
       "      <td>...</td>\n",
       "      <td>...</td>\n",
       "      <td>...</td>\n",
       "    </tr>\n",
       "    <tr>\n",
       "      <th>99995</th>\n",
       "      <td>2012</td>\n",
       "      <td>August</td>\n",
       "      <td>1082599.10</td>\n",
       "    </tr>\n",
       "    <tr>\n",
       "      <th>99996</th>\n",
       "      <td>2013</td>\n",
       "      <td>December</td>\n",
       "      <td>1380424.08</td>\n",
       "    </tr>\n",
       "    <tr>\n",
       "      <th>99997</th>\n",
       "      <td>2013</td>\n",
       "      <td>August</td>\n",
       "      <td>1087117.44</td>\n",
       "    </tr>\n",
       "    <tr>\n",
       "      <th>99998</th>\n",
       "      <td>2011</td>\n",
       "      <td>June</td>\n",
       "      <td>3066958.00</td>\n",
       "    </tr>\n",
       "    <tr>\n",
       "      <th>99999</th>\n",
       "      <td>2012</td>\n",
       "      <td>April</td>\n",
       "      <td>1411718.80</td>\n",
       "    </tr>\n",
       "  </tbody>\n",
       "</table>\n",
       "<p>100000 rows × 3 columns</p>\n",
       "</div>"
      ],
      "text/plain": [
       "       year      month  Total Revenue\n",
       "0      2014    October      142509.72\n",
       "1      2015   February     1989697.20\n",
       "2      2015   December       93169.38\n",
       "3      2014  September      745214.14\n",
       "4      2010   February     3914725.66\n",
       "...     ...        ...            ...\n",
       "99995  2012     August     1082599.10\n",
       "99996  2013   December     1380424.08\n",
       "99997  2013     August     1087117.44\n",
       "99998  2011       June     3066958.00\n",
       "99999  2012      April     1411718.80\n",
       "\n",
       "[100000 rows x 3 columns]"
      ]
     },
     "execution_count": 32,
     "metadata": {},
     "output_type": "execute_result"
    }
   ],
   "source": [
    "df[['year', 'month','Total Revenue']]"
   ]
  },
  {
   "cell_type": "code",
   "execution_count": 33,
   "id": "1443c655",
   "metadata": {},
   "outputs": [],
   "source": [
    "monthly_revenue = df.groupby(['year', 'month'])['Total Revenue'].sum().reset_index()"
   ]
  },
  {
   "cell_type": "code",
   "execution_count": 34,
   "id": "3a27d3c1",
   "metadata": {},
   "outputs": [
    {
     "data": {
      "text/html": [
       "<div>\n",
       "<style scoped>\n",
       "    .dataframe tbody tr th:only-of-type {\n",
       "        vertical-align: middle;\n",
       "    }\n",
       "\n",
       "    .dataframe tbody tr th {\n",
       "        vertical-align: top;\n",
       "    }\n",
       "\n",
       "    .dataframe thead th {\n",
       "        text-align: right;\n",
       "    }\n",
       "</style>\n",
       "<table border=\"1\" class=\"dataframe\">\n",
       "  <thead>\n",
       "    <tr style=\"text-align: right;\">\n",
       "      <th></th>\n",
       "      <th>year</th>\n",
       "      <th>month</th>\n",
       "      <th>Total Revenue</th>\n",
       "    </tr>\n",
       "  </thead>\n",
       "  <tbody>\n",
       "    <tr>\n",
       "      <th>0</th>\n",
       "      <td>2010</td>\n",
       "      <td>April</td>\n",
       "      <td>1493974690.37</td>\n",
       "    </tr>\n",
       "    <tr>\n",
       "      <th>1</th>\n",
       "      <td>2010</td>\n",
       "      <td>August</td>\n",
       "      <td>1607025923.59</td>\n",
       "    </tr>\n",
       "    <tr>\n",
       "      <th>2</th>\n",
       "      <td>2010</td>\n",
       "      <td>December</td>\n",
       "      <td>1406262507.72</td>\n",
       "    </tr>\n",
       "    <tr>\n",
       "      <th>3</th>\n",
       "      <td>2010</td>\n",
       "      <td>February</td>\n",
       "      <td>1351908048.52</td>\n",
       "    </tr>\n",
       "    <tr>\n",
       "      <th>4</th>\n",
       "      <td>2010</td>\n",
       "      <td>January</td>\n",
       "      <td>1431090213.32</td>\n",
       "    </tr>\n",
       "    <tr>\n",
       "      <th>...</th>\n",
       "      <td>...</td>\n",
       "      <td>...</td>\n",
       "      <td>...</td>\n",
       "    </tr>\n",
       "    <tr>\n",
       "      <th>86</th>\n",
       "      <td>2017</td>\n",
       "      <td>January</td>\n",
       "      <td>1447152933.44</td>\n",
       "    </tr>\n",
       "    <tr>\n",
       "      <th>87</th>\n",
       "      <td>2017</td>\n",
       "      <td>July</td>\n",
       "      <td>1445914072.13</td>\n",
       "    </tr>\n",
       "    <tr>\n",
       "      <th>88</th>\n",
       "      <td>2017</td>\n",
       "      <td>June</td>\n",
       "      <td>1417574392.32</td>\n",
       "    </tr>\n",
       "    <tr>\n",
       "      <th>89</th>\n",
       "      <td>2017</td>\n",
       "      <td>March</td>\n",
       "      <td>1386584363.88</td>\n",
       "    </tr>\n",
       "    <tr>\n",
       "      <th>90</th>\n",
       "      <td>2017</td>\n",
       "      <td>May</td>\n",
       "      <td>1536494606.77</td>\n",
       "    </tr>\n",
       "  </tbody>\n",
       "</table>\n",
       "<p>91 rows × 3 columns</p>\n",
       "</div>"
      ],
      "text/plain": [
       "    year     month  Total Revenue\n",
       "0   2010     April  1493974690.37\n",
       "1   2010    August  1607025923.59\n",
       "2   2010  December  1406262507.72\n",
       "3   2010  February  1351908048.52\n",
       "4   2010   January  1431090213.32\n",
       "..   ...       ...            ...\n",
       "86  2017   January  1447152933.44\n",
       "87  2017      July  1445914072.13\n",
       "88  2017      June  1417574392.32\n",
       "89  2017     March  1386584363.88\n",
       "90  2017       May  1536494606.77\n",
       "\n",
       "[91 rows x 3 columns]"
      ]
     },
     "execution_count": 34,
     "metadata": {},
     "output_type": "execute_result"
    }
   ],
   "source": [
    "monthly_revenue"
   ]
  },
  {
   "cell_type": "code",
   "execution_count": 35,
   "id": "e11b700c",
   "metadata": {},
   "outputs": [
    {
     "data": {
      "text/html": [
       "<div>\n",
       "<style scoped>\n",
       "    .dataframe tbody tr th:only-of-type {\n",
       "        vertical-align: middle;\n",
       "    }\n",
       "\n",
       "    .dataframe tbody tr th {\n",
       "        vertical-align: top;\n",
       "    }\n",
       "\n",
       "    .dataframe thead th {\n",
       "        text-align: right;\n",
       "    }\n",
       "</style>\n",
       "<table border=\"1\" class=\"dataframe\">\n",
       "  <thead>\n",
       "    <tr style=\"text-align: right;\">\n",
       "      <th></th>\n",
       "      <th>year</th>\n",
       "      <th>month</th>\n",
       "      <th>Total Revenue</th>\n",
       "    </tr>\n",
       "  </thead>\n",
       "  <tbody>\n",
       "    <tr>\n",
       "      <th>0</th>\n",
       "      <td>2010</td>\n",
       "      <td>August</td>\n",
       "      <td>1607025923.59</td>\n",
       "    </tr>\n",
       "    <tr>\n",
       "      <th>1</th>\n",
       "      <td>2011</td>\n",
       "      <td>November</td>\n",
       "      <td>1570833601.14</td>\n",
       "    </tr>\n",
       "    <tr>\n",
       "      <th>2</th>\n",
       "      <td>2012</td>\n",
       "      <td>January</td>\n",
       "      <td>1532661846.26</td>\n",
       "    </tr>\n",
       "    <tr>\n",
       "      <th>3</th>\n",
       "      <td>2013</td>\n",
       "      <td>October</td>\n",
       "      <td>1672472823.19</td>\n",
       "    </tr>\n",
       "    <tr>\n",
       "      <th>4</th>\n",
       "      <td>2014</td>\n",
       "      <td>March</td>\n",
       "      <td>1618462644.80</td>\n",
       "    </tr>\n",
       "    <tr>\n",
       "      <th>5</th>\n",
       "      <td>2015</td>\n",
       "      <td>March</td>\n",
       "      <td>1583113325.69</td>\n",
       "    </tr>\n",
       "    <tr>\n",
       "      <th>6</th>\n",
       "      <td>2016</td>\n",
       "      <td>January</td>\n",
       "      <td>1570884342.83</td>\n",
       "    </tr>\n",
       "    <tr>\n",
       "      <th>7</th>\n",
       "      <td>2017</td>\n",
       "      <td>May</td>\n",
       "      <td>1536494606.77</td>\n",
       "    </tr>\n",
       "  </tbody>\n",
       "</table>\n",
       "</div>"
      ],
      "text/plain": [
       "   year     month  Total Revenue\n",
       "0  2010    August  1607025923.59\n",
       "1  2011  November  1570833601.14\n",
       "2  2012   January  1532661846.26\n",
       "3  2013   October  1672472823.19\n",
       "4  2014     March  1618462644.80\n",
       "5  2015     March  1583113325.69\n",
       "6  2016   January  1570884342.83\n",
       "7  2017       May  1536494606.77"
      ]
     },
     "execution_count": 35,
     "metadata": {},
     "output_type": "execute_result"
    }
   ],
   "source": [
    "max_revenue_month = monthly_revenue.loc[monthly_revenue.groupby('year')['Total Revenue'].idxmax()].reset_index(drop=True)\n",
    "\n",
    "max_revenue_month"
   ]
  },
  {
   "cell_type": "code",
   "execution_count": 36,
   "id": "8db7c162",
   "metadata": {},
   "outputs": [
    {
     "data": {
      "text/plain": [
       "3"
      ]
     },
     "execution_count": 36,
     "metadata": {},
     "output_type": "execute_result"
    }
   ],
   "source": [
    "max_revenue_month['Total Revenue'].idxmax()\n"
   ]
  },
  {
   "cell_type": "code",
   "execution_count": 37,
   "id": "b2a69ac1",
   "metadata": {},
   "outputs": [
    {
     "data": {
      "text/plain": [
       "1672472823.19"
      ]
     },
     "execution_count": 37,
     "metadata": {},
     "output_type": "execute_result"
    }
   ],
   "source": [
    "max_revenue_month['Total Revenue'].max()"
   ]
  },
  {
   "cell_type": "code",
   "execution_count": 38,
   "id": "d5c27eca",
   "metadata": {},
   "outputs": [
    {
     "data": {
      "text/plain": [
       "2"
      ]
     },
     "execution_count": 38,
     "metadata": {},
     "output_type": "execute_result"
    }
   ],
   "source": [
    "max_revenue_month['Total Revenue'].idxmin()"
   ]
  },
  {
   "cell_type": "code",
   "execution_count": 39,
   "id": "7fccb9b5",
   "metadata": {},
   "outputs": [
    {
     "data": {
      "text/plain": [
       "1532661846.26"
      ]
     },
     "execution_count": 39,
     "metadata": {},
     "output_type": "execute_result"
    }
   ],
   "source": [
    "max_revenue_month['Total Revenue'].min()"
   ]
  },
  {
   "cell_type": "code",
   "execution_count": 40,
   "id": "573c72f4",
   "metadata": {},
   "outputs": [
    {
     "data": {
      "text/html": [
       "<div>\n",
       "<style scoped>\n",
       "    .dataframe tbody tr th:only-of-type {\n",
       "        vertical-align: middle;\n",
       "    }\n",
       "\n",
       "    .dataframe tbody tr th {\n",
       "        vertical-align: top;\n",
       "    }\n",
       "\n",
       "    .dataframe thead th {\n",
       "        text-align: right;\n",
       "    }\n",
       "</style>\n",
       "<table border=\"1\" class=\"dataframe\">\n",
       "  <thead>\n",
       "    <tr style=\"text-align: right;\">\n",
       "      <th></th>\n",
       "      <th>year</th>\n",
       "      <th>month</th>\n",
       "      <th>Total Revenue</th>\n",
       "    </tr>\n",
       "  </thead>\n",
       "  <tbody>\n",
       "    <tr>\n",
       "      <th>0</th>\n",
       "      <td>2010</td>\n",
       "      <td>August</td>\n",
       "      <td>1607025923.59</td>\n",
       "    </tr>\n",
       "    <tr>\n",
       "      <th>1</th>\n",
       "      <td>2011</td>\n",
       "      <td>November</td>\n",
       "      <td>1570833601.14</td>\n",
       "    </tr>\n",
       "    <tr>\n",
       "      <th>2</th>\n",
       "      <td>2012</td>\n",
       "      <td>January</td>\n",
       "      <td>1532661846.26</td>\n",
       "    </tr>\n",
       "    <tr>\n",
       "      <th>3</th>\n",
       "      <td>2013</td>\n",
       "      <td>October</td>\n",
       "      <td>1672472823.19</td>\n",
       "    </tr>\n",
       "    <tr>\n",
       "      <th>4</th>\n",
       "      <td>2014</td>\n",
       "      <td>March</td>\n",
       "      <td>1618462644.80</td>\n",
       "    </tr>\n",
       "    <tr>\n",
       "      <th>5</th>\n",
       "      <td>2015</td>\n",
       "      <td>March</td>\n",
       "      <td>1583113325.69</td>\n",
       "    </tr>\n",
       "    <tr>\n",
       "      <th>6</th>\n",
       "      <td>2016</td>\n",
       "      <td>January</td>\n",
       "      <td>1570884342.83</td>\n",
       "    </tr>\n",
       "    <tr>\n",
       "      <th>7</th>\n",
       "      <td>2017</td>\n",
       "      <td>May</td>\n",
       "      <td>1536494606.77</td>\n",
       "    </tr>\n",
       "  </tbody>\n",
       "</table>\n",
       "</div>"
      ],
      "text/plain": [
       "   year     month  Total Revenue\n",
       "0  2010    August  1607025923.59\n",
       "1  2011  November  1570833601.14\n",
       "2  2012   January  1532661846.26\n",
       "3  2013   October  1672472823.19\n",
       "4  2014     March  1618462644.80\n",
       "5  2015     March  1583113325.69\n",
       "6  2016   January  1570884342.83\n",
       "7  2017       May  1536494606.77"
      ]
     },
     "execution_count": 40,
     "metadata": {},
     "output_type": "execute_result"
    }
   ],
   "source": [
    "max_revenue_month"
   ]
  },
  {
   "cell_type": "markdown",
   "id": "31042665",
   "metadata": {},
   "source": [
    "###  Conclusion\n",
    "    1. Maximum revenue in 2013 in month of October i.e 1 Billion 672 milion\n",
    "    2. Miniumn revenue in 2012 in month of Augest i.e 1 Billion 532 milion  \n"
   ]
  },
  {
   "cell_type": "markdown",
   "id": "e3550769",
   "metadata": {},
   "source": [
    "# The Total Profit yearly and monthly "
   ]
  },
  {
   "cell_type": "code",
   "execution_count": 41,
   "id": "8170418e",
   "metadata": {},
   "outputs": [
    {
     "data": {
      "text/plain": [
       "year\n",
       "2010   5196744930.08\n",
       "2011   5181709653.38\n",
       "2012   5171870648.59\n",
       "2013   5258788353.60\n",
       "2014   5222129309.06\n",
       "2015   5226962290.69\n",
       "2016   5166950338.21\n",
       "2017   2983968206.00\n",
       "Name: Total Profit, dtype: float64"
      ]
     },
     "execution_count": 41,
     "metadata": {},
     "output_type": "execute_result"
    }
   ],
   "source": [
    "df.groupby('year')['Total Profit'].sum()"
   ]
  },
  {
   "cell_type": "code",
   "execution_count": 42,
   "id": "336b2b07",
   "metadata": {},
   "outputs": [
    {
     "data": {
      "text/plain": [
       "2013"
      ]
     },
     "execution_count": 42,
     "metadata": {},
     "output_type": "execute_result"
    }
   ],
   "source": [
    "df.groupby('year')['Total Profit'].sum().idxmax()"
   ]
  },
  {
   "cell_type": "code",
   "execution_count": 43,
   "id": "19a92b39",
   "metadata": {},
   "outputs": [
    {
     "data": {
      "text/plain": [
       "5258788353.6"
      ]
     },
     "execution_count": 43,
     "metadata": {},
     "output_type": "execute_result"
    }
   ],
   "source": [
    "df.groupby('year')['Total Profit'].sum().max()"
   ]
  },
  {
   "cell_type": "code",
   "execution_count": 44,
   "id": "4697ef27",
   "metadata": {},
   "outputs": [
    {
     "data": {
      "text/plain": [
       "2017"
      ]
     },
     "execution_count": 44,
     "metadata": {},
     "output_type": "execute_result"
    }
   ],
   "source": [
    "df.groupby('year')['Total Profit'].sum().idxmin()"
   ]
  },
  {
   "cell_type": "code",
   "execution_count": 45,
   "id": "bf242390",
   "metadata": {},
   "outputs": [
    {
     "data": {
      "text/plain": [
       "2983968206.0"
      ]
     },
     "execution_count": 45,
     "metadata": {},
     "output_type": "execute_result"
    }
   ],
   "source": [
    "df.groupby('year')['Total Profit'].sum().min()"
   ]
  },
  {
   "cell_type": "markdown",
   "id": "0efb32d5",
   "metadata": {},
   "source": [
    "### Conclusion\n",
    "    1. In 2013 has more Profit that is: 5 billion 258 million\n",
    "    2. In 2017 has more Profit that is: 2 billion 983 million"
   ]
  },
  {
   "cell_type": "code",
   "execution_count": 46,
   "id": "a47039b3",
   "metadata": {},
   "outputs": [],
   "source": [
    "monthly_Prfoit_year = df.groupby(['year', 'month'])['Total Profit'].sum().reset_index()"
   ]
  },
  {
   "cell_type": "code",
   "execution_count": 47,
   "id": "1cb2bf8f",
   "metadata": {},
   "outputs": [],
   "source": [
    "monthly_profit = monthly_Prfoit_year.loc[monthly_Prfoit_year.groupby('year')['Total Profit'].idxmax()].reset_index(drop = False)"
   ]
  },
  {
   "cell_type": "code",
   "execution_count": 48,
   "id": "bd3bb209",
   "metadata": {},
   "outputs": [
    {
     "data": {
      "text/html": [
       "<div>\n",
       "<style scoped>\n",
       "    .dataframe tbody tr th:only-of-type {\n",
       "        vertical-align: middle;\n",
       "    }\n",
       "\n",
       "    .dataframe tbody tr th {\n",
       "        vertical-align: top;\n",
       "    }\n",
       "\n",
       "    .dataframe thead th {\n",
       "        text-align: right;\n",
       "    }\n",
       "</style>\n",
       "<table border=\"1\" class=\"dataframe\">\n",
       "  <thead>\n",
       "    <tr style=\"text-align: right;\">\n",
       "      <th></th>\n",
       "      <th>index</th>\n",
       "      <th>year</th>\n",
       "      <th>month</th>\n",
       "      <th>Total Profit</th>\n",
       "    </tr>\n",
       "  </thead>\n",
       "  <tbody>\n",
       "    <tr>\n",
       "      <th>0</th>\n",
       "      <td>1</td>\n",
       "      <td>2010</td>\n",
       "      <td>August</td>\n",
       "      <td>471986284.08</td>\n",
       "    </tr>\n",
       "    <tr>\n",
       "      <th>1</th>\n",
       "      <td>21</td>\n",
       "      <td>2011</td>\n",
       "      <td>November</td>\n",
       "      <td>473640372.18</td>\n",
       "    </tr>\n",
       "    <tr>\n",
       "      <th>2</th>\n",
       "      <td>28</td>\n",
       "      <td>2012</td>\n",
       "      <td>January</td>\n",
       "      <td>465033939.43</td>\n",
       "    </tr>\n",
       "    <tr>\n",
       "      <th>3</th>\n",
       "      <td>46</td>\n",
       "      <td>2013</td>\n",
       "      <td>October</td>\n",
       "      <td>498536665.12</td>\n",
       "    </tr>\n",
       "    <tr>\n",
       "      <th>4</th>\n",
       "      <td>55</td>\n",
       "      <td>2014</td>\n",
       "      <td>March</td>\n",
       "      <td>466354000.44</td>\n",
       "    </tr>\n",
       "    <tr>\n",
       "      <th>5</th>\n",
       "      <td>71</td>\n",
       "      <td>2015</td>\n",
       "      <td>September</td>\n",
       "      <td>458657915.06</td>\n",
       "    </tr>\n",
       "    <tr>\n",
       "      <th>6</th>\n",
       "      <td>76</td>\n",
       "      <td>2016</td>\n",
       "      <td>January</td>\n",
       "      <td>467082977.85</td>\n",
       "    </tr>\n",
       "    <tr>\n",
       "      <th>7</th>\n",
       "      <td>84</td>\n",
       "      <td>2017</td>\n",
       "      <td>April</td>\n",
       "      <td>454598120.71</td>\n",
       "    </tr>\n",
       "  </tbody>\n",
       "</table>\n",
       "</div>"
      ],
      "text/plain": [
       "   index  year      month  Total Profit\n",
       "0      1  2010     August  471986284.08\n",
       "1     21  2011   November  473640372.18\n",
       "2     28  2012    January  465033939.43\n",
       "3     46  2013    October  498536665.12\n",
       "4     55  2014      March  466354000.44\n",
       "5     71  2015  September  458657915.06\n",
       "6     76  2016    January  467082977.85\n",
       "7     84  2017      April  454598120.71"
      ]
     },
     "execution_count": 48,
     "metadata": {},
     "output_type": "execute_result"
    }
   ],
   "source": [
    "monthly_profit"
   ]
  },
  {
   "cell_type": "code",
   "execution_count": 49,
   "id": "8232eff8",
   "metadata": {},
   "outputs": [
    {
     "data": {
      "text/plain": [
       "index                    84\n",
       "year                   2017\n",
       "month             September\n",
       "Total Profit   498536665.12\n",
       "dtype: object"
      ]
     },
     "execution_count": 49,
     "metadata": {},
     "output_type": "execute_result"
    }
   ],
   "source": [
    "monthly_profit.max()"
   ]
  },
  {
   "cell_type": "code",
   "execution_count": 50,
   "id": "40eacb01",
   "metadata": {},
   "outputs": [
    {
     "data": {
      "text/plain": [
       "index                     1\n",
       "year                   2010\n",
       "month                 April\n",
       "Total Profit   454598120.71\n",
       "dtype: object"
      ]
     },
     "execution_count": 50,
     "metadata": {},
     "output_type": "execute_result"
    }
   ],
   "source": [
    "monthly_profit.min()"
   ]
  },
  {
   "cell_type": "markdown",
   "id": "f8af30c2",
   "metadata": {},
   "source": [
    "### Conclusion\n",
    "    1.The maximum Profitable month is september,2017 and profit is : 4 Billion 987 million \n",
    "    2.The minimum Profitable month is april,2010 and profit is : 4 Billion 545 million"
   ]
  },
  {
   "cell_type": "markdown",
   "id": "564d56e1",
   "metadata": {},
   "source": [
    " # The Total cost for monthly and yearly "
   ]
  },
  {
   "cell_type": "code",
   "execution_count": 51,
   "id": "a5b2ff08",
   "metadata": {},
   "outputs": [
    {
     "data": {
      "text/plain": [
       "year\n",
       "2010   12332981209.03\n",
       "2011   12338198511.74\n",
       "2012   12451808685.77\n",
       "2013   12546307607.03\n",
       "2014   12647262992.11\n",
       "2015   12565021972.44\n",
       "2016   12297117369.68\n",
       "2017    7018850989.00\n",
       "Name: Total Cost, dtype: float64"
      ]
     },
     "execution_count": 51,
     "metadata": {},
     "output_type": "execute_result"
    }
   ],
   "source": [
    "df.groupby('year')['Total Cost'].sum()"
   ]
  },
  {
   "cell_type": "code",
   "execution_count": 52,
   "id": "e0535b6d",
   "metadata": {},
   "outputs": [],
   "source": [
    "year = df.groupby('year')['Total Cost'].sum()"
   ]
  },
  {
   "cell_type": "code",
   "execution_count": 53,
   "id": "e1e51172",
   "metadata": {},
   "outputs": [
    {
     "data": {
      "text/plain": [
       "2014"
      ]
     },
     "execution_count": 53,
     "metadata": {},
     "output_type": "execute_result"
    }
   ],
   "source": [
    "year.idxmax()"
   ]
  },
  {
   "cell_type": "code",
   "execution_count": 54,
   "id": "d4c4e51c",
   "metadata": {},
   "outputs": [
    {
     "data": {
      "text/plain": [
       "12647262992.11"
      ]
     },
     "execution_count": 54,
     "metadata": {},
     "output_type": "execute_result"
    }
   ],
   "source": [
    "year.max()"
   ]
  },
  {
   "cell_type": "code",
   "execution_count": 55,
   "id": "341c90f8",
   "metadata": {},
   "outputs": [
    {
     "data": {
      "text/plain": [
       "2017"
      ]
     },
     "execution_count": 55,
     "metadata": {},
     "output_type": "execute_result"
    }
   ],
   "source": [
    "year.idxmin()"
   ]
  },
  {
   "cell_type": "code",
   "execution_count": 56,
   "id": "c1e3cdce",
   "metadata": {},
   "outputs": [
    {
     "data": {
      "text/plain": [
       "7018850989.0"
      ]
     },
     "execution_count": 56,
     "metadata": {},
     "output_type": "execute_result"
    }
   ],
   "source": [
    "year.min()"
   ]
  },
  {
   "cell_type": "markdown",
   "id": "883c22a8",
   "metadata": {},
   "source": [
    "### Conclusion\n",
    "    1. In The year 2014 cost is more i.e: 12 Billion\n",
    "    2. In the year of 2017 cost is less i.e 7 Billion"
   ]
  },
  {
   "cell_type": "code",
   "execution_count": 57,
   "id": "e44dd109",
   "metadata": {},
   "outputs": [],
   "source": [
    "monthly_Cost_year = df.groupby(['year', 'month'])['Total Cost'].sum().reset_index()"
   ]
  },
  {
   "cell_type": "code",
   "execution_count": 58,
   "id": "7a53fd1c",
   "metadata": {},
   "outputs": [
    {
     "data": {
      "text/html": [
       "<div>\n",
       "<style scoped>\n",
       "    .dataframe tbody tr th:only-of-type {\n",
       "        vertical-align: middle;\n",
       "    }\n",
       "\n",
       "    .dataframe tbody tr th {\n",
       "        vertical-align: top;\n",
       "    }\n",
       "\n",
       "    .dataframe thead th {\n",
       "        text-align: right;\n",
       "    }\n",
       "</style>\n",
       "<table border=\"1\" class=\"dataframe\">\n",
       "  <thead>\n",
       "    <tr style=\"text-align: right;\">\n",
       "      <th></th>\n",
       "      <th>year</th>\n",
       "      <th>month</th>\n",
       "      <th>Total Cost</th>\n",
       "    </tr>\n",
       "  </thead>\n",
       "  <tbody>\n",
       "    <tr>\n",
       "      <th>0</th>\n",
       "      <td>2010</td>\n",
       "      <td>April</td>\n",
       "      <td>1056322239.15</td>\n",
       "    </tr>\n",
       "    <tr>\n",
       "      <th>1</th>\n",
       "      <td>2010</td>\n",
       "      <td>August</td>\n",
       "      <td>1135039639.51</td>\n",
       "    </tr>\n",
       "    <tr>\n",
       "      <th>2</th>\n",
       "      <td>2010</td>\n",
       "      <td>December</td>\n",
       "      <td>984901240.35</td>\n",
       "    </tr>\n",
       "    <tr>\n",
       "      <th>3</th>\n",
       "      <td>2010</td>\n",
       "      <td>February</td>\n",
       "      <td>946565948.15</td>\n",
       "    </tr>\n",
       "    <tr>\n",
       "      <th>4</th>\n",
       "      <td>2010</td>\n",
       "      <td>January</td>\n",
       "      <td>1002787481.30</td>\n",
       "    </tr>\n",
       "    <tr>\n",
       "      <th>...</th>\n",
       "      <td>...</td>\n",
       "      <td>...</td>\n",
       "      <td>...</td>\n",
       "    </tr>\n",
       "    <tr>\n",
       "      <th>86</th>\n",
       "      <td>2017</td>\n",
       "      <td>January</td>\n",
       "      <td>1021150345.57</td>\n",
       "    </tr>\n",
       "    <tr>\n",
       "      <th>87</th>\n",
       "      <td>2017</td>\n",
       "      <td>July</td>\n",
       "      <td>1007346552.38</td>\n",
       "    </tr>\n",
       "    <tr>\n",
       "      <th>88</th>\n",
       "      <td>2017</td>\n",
       "      <td>June</td>\n",
       "      <td>987599983.21</td>\n",
       "    </tr>\n",
       "    <tr>\n",
       "      <th>89</th>\n",
       "      <td>2017</td>\n",
       "      <td>March</td>\n",
       "      <td>980012344.07</td>\n",
       "    </tr>\n",
       "    <tr>\n",
       "      <th>90</th>\n",
       "      <td>2017</td>\n",
       "      <td>May</td>\n",
       "      <td>1090696714.80</td>\n",
       "    </tr>\n",
       "  </tbody>\n",
       "</table>\n",
       "<p>91 rows × 3 columns</p>\n",
       "</div>"
      ],
      "text/plain": [
       "    year     month    Total Cost\n",
       "0   2010     April 1056322239.15\n",
       "1   2010    August 1135039639.51\n",
       "2   2010  December  984901240.35\n",
       "3   2010  February  946565948.15\n",
       "4   2010   January 1002787481.30\n",
       "..   ...       ...           ...\n",
       "86  2017   January 1021150345.57\n",
       "87  2017      July 1007346552.38\n",
       "88  2017      June  987599983.21\n",
       "89  2017     March  980012344.07\n",
       "90  2017       May 1090696714.80\n",
       "\n",
       "[91 rows x 3 columns]"
      ]
     },
     "execution_count": 58,
     "metadata": {},
     "output_type": "execute_result"
    }
   ],
   "source": [
    "monthly_Cost_year"
   ]
  },
  {
   "cell_type": "code",
   "execution_count": 59,
   "id": "7ebf9628",
   "metadata": {},
   "outputs": [],
   "source": [
    "monthly_Cost = monthly_Cost_year.loc[monthly_Cost_year.groupby('year')['Total Cost'].idxmax()].reset_index(drop=True)"
   ]
  },
  {
   "cell_type": "code",
   "execution_count": 60,
   "id": "f376070b",
   "metadata": {},
   "outputs": [
    {
     "data": {
      "text/html": [
       "<div>\n",
       "<style scoped>\n",
       "    .dataframe tbody tr th:only-of-type {\n",
       "        vertical-align: middle;\n",
       "    }\n",
       "\n",
       "    .dataframe tbody tr th {\n",
       "        vertical-align: top;\n",
       "    }\n",
       "\n",
       "    .dataframe thead th {\n",
       "        text-align: right;\n",
       "    }\n",
       "</style>\n",
       "<table border=\"1\" class=\"dataframe\">\n",
       "  <thead>\n",
       "    <tr style=\"text-align: right;\">\n",
       "      <th></th>\n",
       "      <th>year</th>\n",
       "      <th>month</th>\n",
       "      <th>Total Cost</th>\n",
       "    </tr>\n",
       "  </thead>\n",
       "  <tbody>\n",
       "    <tr>\n",
       "      <th>0</th>\n",
       "      <td>2010</td>\n",
       "      <td>August</td>\n",
       "      <td>1135039639.51</td>\n",
       "    </tr>\n",
       "    <tr>\n",
       "      <th>1</th>\n",
       "      <td>2011</td>\n",
       "      <td>November</td>\n",
       "      <td>1097193228.96</td>\n",
       "    </tr>\n",
       "    <tr>\n",
       "      <th>2</th>\n",
       "      <td>2012</td>\n",
       "      <td>May</td>\n",
       "      <td>1078584101.29</td>\n",
       "    </tr>\n",
       "    <tr>\n",
       "      <th>3</th>\n",
       "      <td>2013</td>\n",
       "      <td>July</td>\n",
       "      <td>1177669920.96</td>\n",
       "    </tr>\n",
       "    <tr>\n",
       "      <th>4</th>\n",
       "      <td>2014</td>\n",
       "      <td>March</td>\n",
       "      <td>1152108644.36</td>\n",
       "    </tr>\n",
       "    <tr>\n",
       "      <th>5</th>\n",
       "      <td>2015</td>\n",
       "      <td>March</td>\n",
       "      <td>1129143502.72</td>\n",
       "    </tr>\n",
       "    <tr>\n",
       "      <th>6</th>\n",
       "      <td>2016</td>\n",
       "      <td>January</td>\n",
       "      <td>1103801364.98</td>\n",
       "    </tr>\n",
       "    <tr>\n",
       "      <th>7</th>\n",
       "      <td>2017</td>\n",
       "      <td>May</td>\n",
       "      <td>1090696714.80</td>\n",
       "    </tr>\n",
       "  </tbody>\n",
       "</table>\n",
       "</div>"
      ],
      "text/plain": [
       "   year     month    Total Cost\n",
       "0  2010    August 1135039639.51\n",
       "1  2011  November 1097193228.96\n",
       "2  2012       May 1078584101.29\n",
       "3  2013      July 1177669920.96\n",
       "4  2014     March 1152108644.36\n",
       "5  2015     March 1129143502.72\n",
       "6  2016   January 1103801364.98\n",
       "7  2017       May 1090696714.80"
      ]
     },
     "execution_count": 60,
     "metadata": {},
     "output_type": "execute_result"
    }
   ],
   "source": [
    "monthly_Cost"
   ]
  },
  {
   "cell_type": "code",
   "execution_count": 61,
   "id": "f278d0c5",
   "metadata": {},
   "outputs": [
    {
     "data": {
      "text/plain": [
       "3"
      ]
     },
     "execution_count": 61,
     "metadata": {},
     "output_type": "execute_result"
    }
   ],
   "source": [
    "monthly_Cost['Total Cost'].idxmax()"
   ]
  },
  {
   "cell_type": "code",
   "execution_count": 62,
   "id": "97a3ca83",
   "metadata": {},
   "outputs": [
    {
     "data": {
      "text/plain": [
       "1177669920.96"
      ]
     },
     "execution_count": 62,
     "metadata": {},
     "output_type": "execute_result"
    }
   ],
   "source": [
    "monthly_Cost['Total Cost'].max()"
   ]
  },
  {
   "cell_type": "code",
   "execution_count": 63,
   "id": "0a4f28eb",
   "metadata": {},
   "outputs": [
    {
     "data": {
      "text/plain": [
       "2"
      ]
     },
     "execution_count": 63,
     "metadata": {},
     "output_type": "execute_result"
    }
   ],
   "source": [
    "monthly_Cost['Total Cost'].idxmin()"
   ]
  },
  {
   "cell_type": "code",
   "execution_count": 64,
   "id": "906fe409",
   "metadata": {},
   "outputs": [
    {
     "data": {
      "text/plain": [
       "1078584101.29"
      ]
     },
     "execution_count": 64,
     "metadata": {},
     "output_type": "execute_result"
    }
   ],
   "source": [
    "monthly_Cost['Total Cost'].min()"
   ]
  },
  {
   "cell_type": "markdown",
   "id": "0d8000fc",
   "metadata": {},
   "source": [
    "### Conclusion\n",
    "    1.In Month of November year 2013 have more cost i.e 1 billion 177 Million\n",
    "    2.In Month of Augest year 2012 have more cost i.e 1 billion 1078 million"
   ]
  },
  {
   "cell_type": "markdown",
   "id": "e45c8606",
   "metadata": {},
   "source": [
    "# Region wise Total Revenue"
   ]
  },
  {
   "cell_type": "code",
   "execution_count": 65,
   "id": "5d42a2ad",
   "metadata": {},
   "outputs": [
    {
     "data": {
      "text/plain": [
       "Index(['Region', 'Country', 'Item Type', 'Sales Channel', 'Order Priority',\n",
       "       'Order Date', 'Order ID', 'Ship Date', 'Units Sold', 'Unit Price',\n",
       "       'Unit Cost', 'Total Revenue', 'Total Cost', 'Total Profit', 'month',\n",
       "       'year'],\n",
       "      dtype='object')"
      ]
     },
     "execution_count": 65,
     "metadata": {},
     "output_type": "execute_result"
    }
   ],
   "source": [
    "df.columns"
   ]
  },
  {
   "cell_type": "code",
   "execution_count": 66,
   "id": "abad1e99",
   "metadata": {},
   "outputs": [
    {
     "data": {
      "text/html": [
       "<div>\n",
       "<style scoped>\n",
       "    .dataframe tbody tr th:only-of-type {\n",
       "        vertical-align: middle;\n",
       "    }\n",
       "\n",
       "    .dataframe tbody tr th {\n",
       "        vertical-align: top;\n",
       "    }\n",
       "\n",
       "    .dataframe thead th {\n",
       "        text-align: right;\n",
       "    }\n",
       "</style>\n",
       "<table border=\"1\" class=\"dataframe\">\n",
       "  <thead>\n",
       "    <tr style=\"text-align: right;\">\n",
       "      <th></th>\n",
       "      <th>Region</th>\n",
       "      <th>Total Revenue</th>\n",
       "    </tr>\n",
       "  </thead>\n",
       "  <tbody>\n",
       "    <tr>\n",
       "      <th>0</th>\n",
       "      <td>Middle East and North Africa</td>\n",
       "      <td>142509.72</td>\n",
       "    </tr>\n",
       "    <tr>\n",
       "      <th>1</th>\n",
       "      <td>Central America and the Caribbean</td>\n",
       "      <td>1989697.20</td>\n",
       "    </tr>\n",
       "    <tr>\n",
       "      <th>2</th>\n",
       "      <td>Sub-Saharan Africa</td>\n",
       "      <td>93169.38</td>\n",
       "    </tr>\n",
       "    <tr>\n",
       "      <th>3</th>\n",
       "      <td>Sub-Saharan Africa</td>\n",
       "      <td>745214.14</td>\n",
       "    </tr>\n",
       "    <tr>\n",
       "      <th>4</th>\n",
       "      <td>Central America and the Caribbean</td>\n",
       "      <td>3914725.66</td>\n",
       "    </tr>\n",
       "    <tr>\n",
       "      <th>...</th>\n",
       "      <td>...</td>\n",
       "      <td>...</td>\n",
       "    </tr>\n",
       "    <tr>\n",
       "      <th>99995</th>\n",
       "      <td>Sub-Saharan Africa</td>\n",
       "      <td>1082599.10</td>\n",
       "    </tr>\n",
       "    <tr>\n",
       "      <th>99996</th>\n",
       "      <td>Europe</td>\n",
       "      <td>1380424.08</td>\n",
       "    </tr>\n",
       "    <tr>\n",
       "      <th>99997</th>\n",
       "      <td>Sub-Saharan Africa</td>\n",
       "      <td>1087117.44</td>\n",
       "    </tr>\n",
       "    <tr>\n",
       "      <th>99998</th>\n",
       "      <td>Middle East and North Africa</td>\n",
       "      <td>3066958.00</td>\n",
       "    </tr>\n",
       "    <tr>\n",
       "      <th>99999</th>\n",
       "      <td>Sub-Saharan Africa</td>\n",
       "      <td>1411718.80</td>\n",
       "    </tr>\n",
       "  </tbody>\n",
       "</table>\n",
       "<p>100000 rows × 2 columns</p>\n",
       "</div>"
      ],
      "text/plain": [
       "                                  Region  Total Revenue\n",
       "0           Middle East and North Africa      142509.72\n",
       "1      Central America and the Caribbean     1989697.20\n",
       "2                     Sub-Saharan Africa       93169.38\n",
       "3                     Sub-Saharan Africa      745214.14\n",
       "4      Central America and the Caribbean     3914725.66\n",
       "...                                  ...            ...\n",
       "99995                 Sub-Saharan Africa     1082599.10\n",
       "99996                             Europe     1380424.08\n",
       "99997                 Sub-Saharan Africa     1087117.44\n",
       "99998       Middle East and North Africa     3066958.00\n",
       "99999                 Sub-Saharan Africa     1411718.80\n",
       "\n",
       "[100000 rows x 2 columns]"
      ]
     },
     "execution_count": 66,
     "metadata": {},
     "output_type": "execute_result"
    }
   ],
   "source": [
    "df[['Region','Total Revenue']]"
   ]
  },
  {
   "cell_type": "code",
   "execution_count": 67,
   "id": "f457a5be",
   "metadata": {},
   "outputs": [
    {
     "data": {
      "text/html": [
       "<div>\n",
       "<style scoped>\n",
       "    .dataframe tbody tr th:only-of-type {\n",
       "        vertical-align: middle;\n",
       "    }\n",
       "\n",
       "    .dataframe tbody tr th {\n",
       "        vertical-align: top;\n",
       "    }\n",
       "\n",
       "    .dataframe thead th {\n",
       "        text-align: right;\n",
       "    }\n",
       "</style>\n",
       "<table border=\"1\" class=\"dataframe\">\n",
       "  <thead>\n",
       "    <tr style=\"text-align: right;\">\n",
       "      <th></th>\n",
       "      <th>Region</th>\n",
       "      <th>Total Revenue</th>\n",
       "    </tr>\n",
       "  </thead>\n",
       "  <tbody>\n",
       "    <tr>\n",
       "      <th>0</th>\n",
       "      <td>Asia</td>\n",
       "      <td>19293401219.82</td>\n",
       "    </tr>\n",
       "    <tr>\n",
       "      <th>1</th>\n",
       "      <td>Australia and Oceania</td>\n",
       "      <td>10701522223.73</td>\n",
       "    </tr>\n",
       "    <tr>\n",
       "      <th>2</th>\n",
       "      <td>Central America and the Caribbean</td>\n",
       "      <td>14553730165.29</td>\n",
       "    </tr>\n",
       "    <tr>\n",
       "      <th>3</th>\n",
       "      <td>Europe</td>\n",
       "      <td>34241150923.39</td>\n",
       "    </tr>\n",
       "    <tr>\n",
       "      <th>4</th>\n",
       "      <td>Middle East and North Africa</td>\n",
       "      <td>16921412794.52</td>\n",
       "    </tr>\n",
       "    <tr>\n",
       "      <th>5</th>\n",
       "      <td>North America</td>\n",
       "      <td>2937002333.49</td>\n",
       "    </tr>\n",
       "    <tr>\n",
       "      <th>6</th>\n",
       "      <td>Sub-Saharan Africa</td>\n",
       "      <td>34958453406.17</td>\n",
       "    </tr>\n",
       "  </tbody>\n",
       "</table>\n",
       "</div>"
      ],
      "text/plain": [
       "                              Region  Total Revenue\n",
       "0                               Asia 19293401219.82\n",
       "1              Australia and Oceania 10701522223.73\n",
       "2  Central America and the Caribbean 14553730165.29\n",
       "3                             Europe 34241150923.39\n",
       "4       Middle East and North Africa 16921412794.52\n",
       "5                      North America  2937002333.49\n",
       "6                 Sub-Saharan Africa 34958453406.17"
      ]
     },
     "execution_count": 67,
     "metadata": {},
     "output_type": "execute_result"
    }
   ],
   "source": [
    "df.groupby('Region')['Total Revenue'].sum().reset_index()"
   ]
  },
  {
   "cell_type": "code",
   "execution_count": 68,
   "id": "63173c1a",
   "metadata": {},
   "outputs": [
    {
     "data": {
      "text/html": [
       "<div>\n",
       "<style scoped>\n",
       "    .dataframe tbody tr th:only-of-type {\n",
       "        vertical-align: middle;\n",
       "    }\n",
       "\n",
       "    .dataframe tbody tr th {\n",
       "        vertical-align: top;\n",
       "    }\n",
       "\n",
       "    .dataframe thead th {\n",
       "        text-align: right;\n",
       "    }\n",
       "</style>\n",
       "<table border=\"1\" class=\"dataframe\">\n",
       "  <thead>\n",
       "    <tr style=\"text-align: right;\">\n",
       "      <th></th>\n",
       "      <th>Country</th>\n",
       "      <th>Total Revenue</th>\n",
       "    </tr>\n",
       "  </thead>\n",
       "  <tbody>\n",
       "    <tr>\n",
       "      <th>0</th>\n",
       "      <td>Afghanistan</td>\n",
       "      <td>733438568.92</td>\n",
       "    </tr>\n",
       "    <tr>\n",
       "      <th>1</th>\n",
       "      <td>Albania</td>\n",
       "      <td>735111521.41</td>\n",
       "    </tr>\n",
       "    <tr>\n",
       "      <th>2</th>\n",
       "      <td>Algeria</td>\n",
       "      <td>674670643.84</td>\n",
       "    </tr>\n",
       "    <tr>\n",
       "      <th>3</th>\n",
       "      <td>Andorra</td>\n",
       "      <td>653450308.05</td>\n",
       "    </tr>\n",
       "    <tr>\n",
       "      <th>4</th>\n",
       "      <td>Angola</td>\n",
       "      <td>602591574.94</td>\n",
       "    </tr>\n",
       "    <tr>\n",
       "      <th>...</th>\n",
       "      <td>...</td>\n",
       "      <td>...</td>\n",
       "    </tr>\n",
       "    <tr>\n",
       "      <th>180</th>\n",
       "      <td>Vatican City</td>\n",
       "      <td>730796928.78</td>\n",
       "    </tr>\n",
       "    <tr>\n",
       "      <th>181</th>\n",
       "      <td>Vietnam</td>\n",
       "      <td>634208761.24</td>\n",
       "    </tr>\n",
       "    <tr>\n",
       "      <th>182</th>\n",
       "      <td>Yemen</td>\n",
       "      <td>797978866.07</td>\n",
       "    </tr>\n",
       "    <tr>\n",
       "      <th>183</th>\n",
       "      <td>Zambia</td>\n",
       "      <td>721878781.53</td>\n",
       "    </tr>\n",
       "    <tr>\n",
       "      <th>184</th>\n",
       "      <td>Zimbabwe</td>\n",
       "      <td>722092388.85</td>\n",
       "    </tr>\n",
       "  </tbody>\n",
       "</table>\n",
       "<p>185 rows × 2 columns</p>\n",
       "</div>"
      ],
      "text/plain": [
       "          Country  Total Revenue\n",
       "0     Afghanistan   733438568.92\n",
       "1         Albania   735111521.41\n",
       "2         Algeria   674670643.84\n",
       "3         Andorra   653450308.05\n",
       "4          Angola   602591574.94\n",
       "..            ...            ...\n",
       "180  Vatican City   730796928.78\n",
       "181       Vietnam   634208761.24\n",
       "182         Yemen   797978866.07\n",
       "183        Zambia   721878781.53\n",
       "184      Zimbabwe   722092388.85\n",
       "\n",
       "[185 rows x 2 columns]"
      ]
     },
     "execution_count": 68,
     "metadata": {},
     "output_type": "execute_result"
    }
   ],
   "source": [
    "df.groupby('Country')['Total Revenue'].sum().reset_index()"
   ]
  },
  {
   "cell_type": "code",
   "execution_count": 103,
   "id": "d955a6ef",
   "metadata": {},
   "outputs": [],
   "source": [
    "region_sales = df.groupby('Region').sum()[['Total Revenue', 'Total Profit', 'Total Cost']].reset_index()"
   ]
  },
  {
   "cell_type": "code",
   "execution_count": 104,
   "id": "b6e32cce",
   "metadata": {},
   "outputs": [],
   "source": [
    "year_sales=df.groupby('year').sum()[['Total Revenue','Total Profit', 'Total Cost']].reset_index()"
   ]
  },
  {
   "cell_type": "code",
   "execution_count": 105,
   "id": "f36ab45c",
   "metadata": {},
   "outputs": [],
   "source": [
    "month_sales = df.groupby('month').sum()[['Total Revenue', 'Total Profit', 'Total Cost']].reset_index()"
   ]
  },
  {
   "cell_type": "code",
   "execution_count": 106,
   "id": "258cbe19",
   "metadata": {},
   "outputs": [
    {
     "data": {
      "text/html": [
       "<div>\n",
       "<style scoped>\n",
       "    .dataframe tbody tr th:only-of-type {\n",
       "        vertical-align: middle;\n",
       "    }\n",
       "\n",
       "    .dataframe tbody tr th {\n",
       "        vertical-align: top;\n",
       "    }\n",
       "\n",
       "    .dataframe thead th {\n",
       "        text-align: right;\n",
       "    }\n",
       "</style>\n",
       "<table border=\"1\" class=\"dataframe\">\n",
       "  <thead>\n",
       "    <tr style=\"text-align: right;\">\n",
       "      <th></th>\n",
       "      <th>Region</th>\n",
       "      <th>Total Revenue</th>\n",
       "      <th>Total Profit</th>\n",
       "      <th>Total Cost</th>\n",
       "    </tr>\n",
       "  </thead>\n",
       "  <tbody>\n",
       "    <tr>\n",
       "      <th>0</th>\n",
       "      <td>Asia</td>\n",
       "      <td>19293401219.82</td>\n",
       "      <td>5707511516.76</td>\n",
       "      <td>13585889703.06</td>\n",
       "    </tr>\n",
       "    <tr>\n",
       "      <th>1</th>\n",
       "      <td>Australia and Oceania</td>\n",
       "      <td>10701522223.73</td>\n",
       "      <td>3175423561.38</td>\n",
       "      <td>7526098662.35</td>\n",
       "    </tr>\n",
       "    <tr>\n",
       "      <th>2</th>\n",
       "      <td>Central America and the Caribbean</td>\n",
       "      <td>14553730165.29</td>\n",
       "      <td>4287210522.47</td>\n",
       "      <td>10266519642.82</td>\n",
       "    </tr>\n",
       "    <tr>\n",
       "      <th>3</th>\n",
       "      <td>Europe</td>\n",
       "      <td>34241150923.39</td>\n",
       "      <td>10080579491.05</td>\n",
       "      <td>24160571432.34</td>\n",
       "    </tr>\n",
       "    <tr>\n",
       "      <th>4</th>\n",
       "      <td>Middle East and North Africa</td>\n",
       "      <td>16921412794.52</td>\n",
       "      <td>4979534378.88</td>\n",
       "      <td>11941878415.64</td>\n",
       "    </tr>\n",
       "    <tr>\n",
       "      <th>5</th>\n",
       "      <td>North America</td>\n",
       "      <td>2937002333.49</td>\n",
       "      <td>872551616.84</td>\n",
       "      <td>2064450716.65</td>\n",
       "    </tr>\n",
       "    <tr>\n",
       "      <th>6</th>\n",
       "      <td>Sub-Saharan Africa</td>\n",
       "      <td>34958453406.17</td>\n",
       "      <td>10306312642.23</td>\n",
       "      <td>24652140763.94</td>\n",
       "    </tr>\n",
       "  </tbody>\n",
       "</table>\n",
       "</div>"
      ],
      "text/plain": [
       "                              Region  Total Revenue   Total Profit  \\\n",
       "0                               Asia 19293401219.82  5707511516.76   \n",
       "1              Australia and Oceania 10701522223.73  3175423561.38   \n",
       "2  Central America and the Caribbean 14553730165.29  4287210522.47   \n",
       "3                             Europe 34241150923.39 10080579491.05   \n",
       "4       Middle East and North Africa 16921412794.52  4979534378.88   \n",
       "5                      North America  2937002333.49   872551616.84   \n",
       "6                 Sub-Saharan Africa 34958453406.17 10306312642.23   \n",
       "\n",
       "      Total Cost  \n",
       "0 13585889703.06  \n",
       "1  7526098662.35  \n",
       "2 10266519642.82  \n",
       "3 24160571432.34  \n",
       "4 11941878415.64  \n",
       "5  2064450716.65  \n",
       "6 24652140763.94  "
      ]
     },
     "execution_count": 106,
     "metadata": {},
     "output_type": "execute_result"
    }
   ],
   "source": [
    "region_sales"
   ]
  },
  {
   "cell_type": "code",
   "execution_count": 107,
   "id": "731ac5f1",
   "metadata": {},
   "outputs": [
    {
     "data": {
      "text/html": [
       "<div>\n",
       "<style scoped>\n",
       "    .dataframe tbody tr th:only-of-type {\n",
       "        vertical-align: middle;\n",
       "    }\n",
       "\n",
       "    .dataframe tbody tr th {\n",
       "        vertical-align: top;\n",
       "    }\n",
       "\n",
       "    .dataframe thead th {\n",
       "        text-align: right;\n",
       "    }\n",
       "</style>\n",
       "<table border=\"1\" class=\"dataframe\">\n",
       "  <thead>\n",
       "    <tr style=\"text-align: right;\">\n",
       "      <th></th>\n",
       "      <th>year</th>\n",
       "      <th>Total Revenue</th>\n",
       "      <th>Total Profit</th>\n",
       "      <th>Total Cost</th>\n",
       "    </tr>\n",
       "  </thead>\n",
       "  <tbody>\n",
       "    <tr>\n",
       "      <th>0</th>\n",
       "      <td>2010</td>\n",
       "      <td>17529726139.11</td>\n",
       "      <td>5196744930.08</td>\n",
       "      <td>12332981209.03</td>\n",
       "    </tr>\n",
       "    <tr>\n",
       "      <th>1</th>\n",
       "      <td>2011</td>\n",
       "      <td>17519908165.12</td>\n",
       "      <td>5181709653.38</td>\n",
       "      <td>12338198511.74</td>\n",
       "    </tr>\n",
       "    <tr>\n",
       "      <th>2</th>\n",
       "      <td>2012</td>\n",
       "      <td>17623679334.36</td>\n",
       "      <td>5171870648.59</td>\n",
       "      <td>12451808685.77</td>\n",
       "    </tr>\n",
       "    <tr>\n",
       "      <th>3</th>\n",
       "      <td>2013</td>\n",
       "      <td>17805095960.63</td>\n",
       "      <td>5258788353.60</td>\n",
       "      <td>12546307607.03</td>\n",
       "    </tr>\n",
       "    <tr>\n",
       "      <th>4</th>\n",
       "      <td>2014</td>\n",
       "      <td>17869392301.17</td>\n",
       "      <td>5222129309.06</td>\n",
       "      <td>12647262992.11</td>\n",
       "    </tr>\n",
       "    <tr>\n",
       "      <th>5</th>\n",
       "      <td>2015</td>\n",
       "      <td>17791984263.13</td>\n",
       "      <td>5226962290.69</td>\n",
       "      <td>12565021972.44</td>\n",
       "    </tr>\n",
       "    <tr>\n",
       "      <th>6</th>\n",
       "      <td>2016</td>\n",
       "      <td>17464067707.89</td>\n",
       "      <td>5166950338.21</td>\n",
       "      <td>12297117369.68</td>\n",
       "    </tr>\n",
       "    <tr>\n",
       "      <th>7</th>\n",
       "      <td>2017</td>\n",
       "      <td>10002819195.00</td>\n",
       "      <td>2983968206.00</td>\n",
       "      <td>7018850989.00</td>\n",
       "    </tr>\n",
       "  </tbody>\n",
       "</table>\n",
       "</div>"
      ],
      "text/plain": [
       "   year  Total Revenue  Total Profit     Total Cost\n",
       "0  2010 17529726139.11 5196744930.08 12332981209.03\n",
       "1  2011 17519908165.12 5181709653.38 12338198511.74\n",
       "2  2012 17623679334.36 5171870648.59 12451808685.77\n",
       "3  2013 17805095960.63 5258788353.60 12546307607.03\n",
       "4  2014 17869392301.17 5222129309.06 12647262992.11\n",
       "5  2015 17791984263.13 5226962290.69 12565021972.44\n",
       "6  2016 17464067707.89 5166950338.21 12297117369.68\n",
       "7  2017 10002819195.00 2983968206.00  7018850989.00"
      ]
     },
     "execution_count": 107,
     "metadata": {},
     "output_type": "execute_result"
    }
   ],
   "source": [
    "year_sales"
   ]
  },
  {
   "cell_type": "code",
   "execution_count": 108,
   "id": "7f3d61d1",
   "metadata": {},
   "outputs": [
    {
     "data": {
      "text/html": [
       "<div>\n",
       "<style scoped>\n",
       "    .dataframe tbody tr th:only-of-type {\n",
       "        vertical-align: middle;\n",
       "    }\n",
       "\n",
       "    .dataframe tbody tr th {\n",
       "        vertical-align: top;\n",
       "    }\n",
       "\n",
       "    .dataframe thead th {\n",
       "        text-align: right;\n",
       "    }\n",
       "</style>\n",
       "<table border=\"1\" class=\"dataframe\">\n",
       "  <thead>\n",
       "    <tr style=\"text-align: right;\">\n",
       "      <th></th>\n",
       "      <th>month</th>\n",
       "      <th>Total Revenue</th>\n",
       "      <th>Total Profit</th>\n",
       "      <th>Total Cost</th>\n",
       "    </tr>\n",
       "  </thead>\n",
       "  <tbody>\n",
       "    <tr>\n",
       "      <th>0</th>\n",
       "      <td>April</td>\n",
       "      <td>11716247642.74</td>\n",
       "      <td>3463006625.89</td>\n",
       "      <td>8253241016.85</td>\n",
       "    </tr>\n",
       "    <tr>\n",
       "      <th>1</th>\n",
       "      <td>August</td>\n",
       "      <td>10318504547.43</td>\n",
       "      <td>3031651974.91</td>\n",
       "      <td>7286852572.52</td>\n",
       "    </tr>\n",
       "    <tr>\n",
       "      <th>2</th>\n",
       "      <td>December</td>\n",
       "      <td>10421898992.53</td>\n",
       "      <td>3069698770.28</td>\n",
       "      <td>7352200222.25</td>\n",
       "    </tr>\n",
       "    <tr>\n",
       "      <th>3</th>\n",
       "      <td>February</td>\n",
       "      <td>10728539584.49</td>\n",
       "      <td>3203046616.26</td>\n",
       "      <td>7525492968.23</td>\n",
       "    </tr>\n",
       "    <tr>\n",
       "      <th>4</th>\n",
       "      <td>January</td>\n",
       "      <td>11854271494.93</td>\n",
       "      <td>3521256908.17</td>\n",
       "      <td>8333014586.76</td>\n",
       "    </tr>\n",
       "    <tr>\n",
       "      <th>5</th>\n",
       "      <td>July</td>\n",
       "      <td>11965605043.62</td>\n",
       "      <td>3532501830.62</td>\n",
       "      <td>8433103213.00</td>\n",
       "    </tr>\n",
       "    <tr>\n",
       "      <th>6</th>\n",
       "      <td>June</td>\n",
       "      <td>11381994081.23</td>\n",
       "      <td>3342992925.73</td>\n",
       "      <td>8039001155.50</td>\n",
       "    </tr>\n",
       "    <tr>\n",
       "      <th>7</th>\n",
       "      <td>March</td>\n",
       "      <td>11989263539.52</td>\n",
       "      <td>3520988530.59</td>\n",
       "      <td>8468275008.93</td>\n",
       "    </tr>\n",
       "    <tr>\n",
       "      <th>8</th>\n",
       "      <td>May</td>\n",
       "      <td>11997951112.99</td>\n",
       "      <td>3521611084.08</td>\n",
       "      <td>8476340028.91</td>\n",
       "    </tr>\n",
       "    <tr>\n",
       "      <th>9</th>\n",
       "      <td>November</td>\n",
       "      <td>10276827546.34</td>\n",
       "      <td>3023362423.26</td>\n",
       "      <td>7253465123.08</td>\n",
       "    </tr>\n",
       "    <tr>\n",
       "      <th>10</th>\n",
       "      <td>October</td>\n",
       "      <td>10731470916.66</td>\n",
       "      <td>3177300662.05</td>\n",
       "      <td>7554170254.61</td>\n",
       "    </tr>\n",
       "    <tr>\n",
       "      <th>11</th>\n",
       "      <td>September</td>\n",
       "      <td>10224098563.93</td>\n",
       "      <td>3001705377.77</td>\n",
       "      <td>7222393186.16</td>\n",
       "    </tr>\n",
       "  </tbody>\n",
       "</table>\n",
       "</div>"
      ],
      "text/plain": [
       "        month  Total Revenue  Total Profit    Total Cost\n",
       "0       April 11716247642.74 3463006625.89 8253241016.85\n",
       "1      August 10318504547.43 3031651974.91 7286852572.52\n",
       "2    December 10421898992.53 3069698770.28 7352200222.25\n",
       "3    February 10728539584.49 3203046616.26 7525492968.23\n",
       "4     January 11854271494.93 3521256908.17 8333014586.76\n",
       "5        July 11965605043.62 3532501830.62 8433103213.00\n",
       "6        June 11381994081.23 3342992925.73 8039001155.50\n",
       "7       March 11989263539.52 3520988530.59 8468275008.93\n",
       "8         May 11997951112.99 3521611084.08 8476340028.91\n",
       "9    November 10276827546.34 3023362423.26 7253465123.08\n",
       "10    October 10731470916.66 3177300662.05 7554170254.61\n",
       "11  September 10224098563.93 3001705377.77 7222393186.16"
      ]
     },
     "execution_count": 108,
     "metadata": {},
     "output_type": "execute_result"
    }
   ],
   "source": [
    "month_sales"
   ]
  },
  {
   "cell_type": "code",
   "execution_count": 113,
   "id": "1c5cfb6d",
   "metadata": {},
   "outputs": [],
   "source": [
    "#Correlation Analysis.\n",
    "correlation = df.corr()"
   ]
  },
  {
   "cell_type": "code",
   "execution_count": 114,
   "id": "7f799014",
   "metadata": {},
   "outputs": [
    {
     "data": {
      "text/html": [
       "<div>\n",
       "<style scoped>\n",
       "    .dataframe tbody tr th:only-of-type {\n",
       "        vertical-align: middle;\n",
       "    }\n",
       "\n",
       "    .dataframe tbody tr th {\n",
       "        vertical-align: top;\n",
       "    }\n",
       "\n",
       "    .dataframe thead th {\n",
       "        text-align: right;\n",
       "    }\n",
       "</style>\n",
       "<table border=\"1\" class=\"dataframe\">\n",
       "  <thead>\n",
       "    <tr style=\"text-align: right;\">\n",
       "      <th></th>\n",
       "      <th>Order ID</th>\n",
       "      <th>Units Sold</th>\n",
       "      <th>Unit Price</th>\n",
       "      <th>Unit Cost</th>\n",
       "      <th>Total Revenue</th>\n",
       "      <th>Total Cost</th>\n",
       "      <th>Total Profit</th>\n",
       "      <th>year</th>\n",
       "    </tr>\n",
       "  </thead>\n",
       "  <tbody>\n",
       "    <tr>\n",
       "      <th>Order ID</th>\n",
       "      <td>1.00</td>\n",
       "      <td>0.00</td>\n",
       "      <td>-0.00</td>\n",
       "      <td>0.00</td>\n",
       "      <td>0.00</td>\n",
       "      <td>0.00</td>\n",
       "      <td>-0.00</td>\n",
       "      <td>0.00</td>\n",
       "    </tr>\n",
       "    <tr>\n",
       "      <th>Units Sold</th>\n",
       "      <td>0.00</td>\n",
       "      <td>1.00</td>\n",
       "      <td>0.00</td>\n",
       "      <td>0.00</td>\n",
       "      <td>0.53</td>\n",
       "      <td>0.47</td>\n",
       "      <td>0.60</td>\n",
       "      <td>0.00</td>\n",
       "    </tr>\n",
       "    <tr>\n",
       "      <th>Unit Price</th>\n",
       "      <td>-0.00</td>\n",
       "      <td>0.00</td>\n",
       "      <td>1.00</td>\n",
       "      <td>0.99</td>\n",
       "      <td>0.74</td>\n",
       "      <td>0.75</td>\n",
       "      <td>0.58</td>\n",
       "      <td>-0.00</td>\n",
       "    </tr>\n",
       "    <tr>\n",
       "      <th>Unit Cost</th>\n",
       "      <td>0.00</td>\n",
       "      <td>0.00</td>\n",
       "      <td>0.99</td>\n",
       "      <td>1.00</td>\n",
       "      <td>0.73</td>\n",
       "      <td>0.77</td>\n",
       "      <td>0.50</td>\n",
       "      <td>-0.00</td>\n",
       "    </tr>\n",
       "    <tr>\n",
       "      <th>Total Revenue</th>\n",
       "      <td>0.00</td>\n",
       "      <td>0.53</td>\n",
       "      <td>0.74</td>\n",
       "      <td>0.73</td>\n",
       "      <td>1.00</td>\n",
       "      <td>0.99</td>\n",
       "      <td>0.88</td>\n",
       "      <td>-0.00</td>\n",
       "    </tr>\n",
       "    <tr>\n",
       "      <th>Total Cost</th>\n",
       "      <td>0.00</td>\n",
       "      <td>0.47</td>\n",
       "      <td>0.75</td>\n",
       "      <td>0.77</td>\n",
       "      <td>0.99</td>\n",
       "      <td>1.00</td>\n",
       "      <td>0.80</td>\n",
       "      <td>-0.00</td>\n",
       "    </tr>\n",
       "    <tr>\n",
       "      <th>Total Profit</th>\n",
       "      <td>-0.00</td>\n",
       "      <td>0.60</td>\n",
       "      <td>0.58</td>\n",
       "      <td>0.50</td>\n",
       "      <td>0.88</td>\n",
       "      <td>0.80</td>\n",
       "      <td>1.00</td>\n",
       "      <td>-0.00</td>\n",
       "    </tr>\n",
       "    <tr>\n",
       "      <th>year</th>\n",
       "      <td>0.00</td>\n",
       "      <td>0.00</td>\n",
       "      <td>-0.00</td>\n",
       "      <td>-0.00</td>\n",
       "      <td>-0.00</td>\n",
       "      <td>-0.00</td>\n",
       "      <td>-0.00</td>\n",
       "      <td>1.00</td>\n",
       "    </tr>\n",
       "  </tbody>\n",
       "</table>\n",
       "</div>"
      ],
      "text/plain": [
       "               Order ID  Units Sold  Unit Price  Unit Cost  Total Revenue  \\\n",
       "Order ID           1.00        0.00       -0.00       0.00           0.00   \n",
       "Units Sold         0.00        1.00        0.00       0.00           0.53   \n",
       "Unit Price        -0.00        0.00        1.00       0.99           0.74   \n",
       "Unit Cost          0.00        0.00        0.99       1.00           0.73   \n",
       "Total Revenue      0.00        0.53        0.74       0.73           1.00   \n",
       "Total Cost         0.00        0.47        0.75       0.77           0.99   \n",
       "Total Profit      -0.00        0.60        0.58       0.50           0.88   \n",
       "year               0.00        0.00       -0.00      -0.00          -0.00   \n",
       "\n",
       "               Total Cost  Total Profit  year  \n",
       "Order ID             0.00         -0.00  0.00  \n",
       "Units Sold           0.47          0.60  0.00  \n",
       "Unit Price           0.75          0.58 -0.00  \n",
       "Unit Cost            0.77          0.50 -0.00  \n",
       "Total Revenue        0.99          0.88 -0.00  \n",
       "Total Cost           1.00          0.80 -0.00  \n",
       "Total Profit         0.80          1.00 -0.00  \n",
       "year                -0.00         -0.00  1.00  "
      ]
     },
     "execution_count": 114,
     "metadata": {},
     "output_type": "execute_result"
    }
   ],
   "source": [
    "correlation"
   ]
  },
  {
   "cell_type": "code",
   "execution_count": 115,
   "id": "8c6ef155",
   "metadata": {},
   "outputs": [],
   "source": [
    "# Top Performing Countries by Total Revenue\n",
    "top_countries = df.groupby('Country').sum().sort_values('Total Revenue',ascending = False)['Total Revenue']"
   ]
  },
  {
   "cell_type": "code",
   "execution_count": 116,
   "id": "2e3ef67e",
   "metadata": {},
   "outputs": [
    {
     "data": {
      "text/plain": [
       "Country\n",
       "Hungary                          837433953.04\n",
       "Bahrain                          835302930.87\n",
       "Federated States of Micronesia   832669517.08\n",
       "Liberia                          816786910.88\n",
       "Malta                            816286329.54\n",
       "                                     ...     \n",
       "Switzerland                      634643525.15\n",
       "Vietnam                          634208761.24\n",
       "Palau                            629698411.76\n",
       "Jamaica                          611440671.82\n",
       "Angola                           602591574.94\n",
       "Name: Total Revenue, Length: 185, dtype: float64"
      ]
     },
     "execution_count": 116,
     "metadata": {},
     "output_type": "execute_result"
    }
   ],
   "source": [
    "top_countries"
   ]
  },
  {
   "cell_type": "code",
   "execution_count": 117,
   "id": "5545b51f",
   "metadata": {},
   "outputs": [],
   "source": [
    "top_region = df.groupby('Region').sum().sort_values('Total Revenue',ascending = False)['Total Revenue']"
   ]
  },
  {
   "cell_type": "code",
   "execution_count": 118,
   "id": "2fe35bcf",
   "metadata": {},
   "outputs": [
    {
     "data": {
      "text/plain": [
       "Region\n",
       "Sub-Saharan Africa                  34958453406.17\n",
       "Europe                              34241150923.39\n",
       "Asia                                19293401219.82\n",
       "Middle East and North Africa        16921412794.52\n",
       "Central America and the Caribbean   14553730165.29\n",
       "Australia and Oceania               10701522223.73\n",
       "North America                        2937002333.49\n",
       "Name: Total Revenue, dtype: float64"
      ]
     },
     "execution_count": 118,
     "metadata": {},
     "output_type": "execute_result"
    }
   ],
   "source": [
    "top_region"
   ]
  },
  {
   "cell_type": "markdown",
   "id": "4aa1fcf7",
   "metadata": {},
   "source": [
    "# Sales Analysis by Region"
   ]
  },
  {
   "cell_type": "code",
   "execution_count": 119,
   "id": "a07358a2",
   "metadata": {},
   "outputs": [
    {
     "data": {
      "text/plain": [
       "<Figure size 1000x600 with 0 Axes>"
      ]
     },
     "metadata": {},
     "output_type": "display_data"
    },
    {
     "data": {
      "image/png": "[encoded data removed]",
      "text/plain": [
       "<Figure size 640x480 with 1 Axes>"
      ]
     },
     "metadata": {},
     "output_type": "display_data"
    }
   ],
   "source": [
    "plt.figure(figsize = (10,6))\n",
    "region_sales.plot(kind = \"bar\")\n",
    "plt.title(\"Sales Analysis by Region\")\n",
    "plt.ylabel(\"Amount\")\n",
    "plt.show()"
   ]
  },
  {
   "cell_type": "markdown",
   "id": "241569cd",
   "metadata": {},
   "source": [
    "# Sales Analysis by year"
   ]
  },
  {
   "cell_type": "code",
   "execution_count": 120,
   "id": "ac861c90",
   "metadata": {},
   "outputs": [
    {
     "data": {
      "text/plain": [
       "<Figure size 1000x600 with 0 Axes>"
      ]
     },
     "metadata": {},
     "output_type": "display_data"
    },
    {
     "data": {
      "image/png": "[encoded data removed]",
      "text/plain": [
       "<Figure size 640x480 with 1 Axes>"
      ]
     },
     "metadata": {},
     "output_type": "display_data"
    }
   ],
   "source": [
    "plt.figure(figsize = (10,6))\n",
    "year_sales.plot(kind= 'line', marker = 'o')\n",
    "plt.title('sales Analysis by year')\n",
    "plt.ylabel('Amount')\n",
    "plt.show()"
   ]
  },
  {
   "cell_type": "markdown",
   "id": "8866d609",
   "metadata": {},
   "source": [
    "# Monthly Sales Trend"
   ]
  },
  {
   "cell_type": "code",
   "execution_count": 121,
   "id": "7bd13e34",
   "metadata": {},
   "outputs": [
    {
     "data": {
      "text/plain": [
       "<Figure size 1000x600 with 0 Axes>"
      ]
     },
     "metadata": {},
     "output_type": "display_data"
    },
    {
     "data": {
      "image/png": "[encoded data removed]",
      "text/plain": [
       "<Figure size 640x480 with 1 Axes>"
      ]
     },
     "metadata": {},
     "output_type": "display_data"
    }
   ],
   "source": [
    "plt.figure(figsize = (10,6))\n",
    "month_sales.plot(kind = 'line', marker = 'o')\n",
    "plt.title('Monthly Sales Trend')\n",
    "plt.ylabel('Amount')\n",
    "plt.show()"
   ]
  },
  {
   "cell_type": "code",
   "execution_count": 122,
   "id": "24192f83",
   "metadata": {},
   "outputs": [],
   "source": [
    "item_sales = df.groupby('Item Type').sum()['Units Sold']"
   ]
  },
  {
   "cell_type": "code",
   "execution_count": 123,
   "id": "5b599ff3",
   "metadata": {},
   "outputs": [
    {
     "data": {
      "text/plain": [
       "Item Type\n",
       "Baby Food          41911620\n",
       "Beverages          41514213\n",
       "Cereal             42254418\n",
       "Clothes            41773440\n",
       "Cosmetics          41924464\n",
       "Fruits             40797276\n",
       "Household          41458795\n",
       "Meat               41745367\n",
       "Office Supplies    42293330\n",
       "Personal Care      41517766\n",
       "Snacks             41699092\n",
       "Vegetables         41254836\n",
       "Name: Units Sold, dtype: int64"
      ]
     },
     "execution_count": 123,
     "metadata": {},
     "output_type": "execute_result"
    }
   ],
   "source": [
    "item_sales"
   ]
  },
  {
   "cell_type": "markdown",
   "id": "5bac0eca",
   "metadata": {},
   "source": [
    "# Sales Distribution by Item type"
   ]
  },
  {
   "cell_type": "code",
   "execution_count": 124,
   "id": "202ea412",
   "metadata": {},
   "outputs": [
    {
     "data": {
      "image/png": "[encoded data removed]",
      "text/plain": [
       "<Figure size 1000x600 with 1 Axes>"
      ]
     },
     "metadata": {},
     "output_type": "display_data"
    }
   ],
   "source": [
    "plt.figure(figsize = (10,6))\n",
    "item_sales.plot(kind= 'bar')\n",
    "plt.title('Sales Distribution by Item type')\n",
    "plt.ylabel('Unit Sold')\n",
    "plt.show()"
   ]
  },
  {
   "cell_type": "markdown",
   "id": "60db93a2",
   "metadata": {},
   "source": [
    "# Correlation Heatmap\n"
   ]
  },
  {
   "cell_type": "code",
   "execution_count": 125,
   "id": "5ee7031d",
   "metadata": {},
   "outputs": [
    {
     "data": {
      "text/plain": [
       "Text(0.5, 1.0, 'Correlation Heatmap')"
      ]
     },
     "execution_count": 125,
     "metadata": {},
     "output_type": "execute_result"
    },
    {
     "data": {
      "image/png": "[encoded data removed]",
      "text/plain": [
       "<Figure size 1000x600 with 2 Axes>"
      ]
     },
     "metadata": {},
     "output_type": "display_data"
    }
   ],
   "source": [
    "plt.figure(figsize = (10,6))\n",
    "sns.heatmap(correlation,annot = True, cmap = 'coolwarm', linewidths = 0.5)\n",
    "plt.title('Correlation Heatmap')"
   ]
  },
  {
   "cell_type": "markdown",
   "id": "bfa5a92c",
   "metadata": {},
   "source": [
    "# Using Seaborn"
   ]
  },
  {
   "cell_type": "code",
   "execution_count": 126,
   "id": "12af21ba",
   "metadata": {},
   "outputs": [
    {
     "data": {
      "text/html": [
       "<div>\n",
       "<style scoped>\n",
       "    .dataframe tbody tr th:only-of-type {\n",
       "        vertical-align: middle;\n",
       "    }\n",
       "\n",
       "    .dataframe tbody tr th {\n",
       "        vertical-align: top;\n",
       "    }\n",
       "\n",
       "    .dataframe thead th {\n",
       "        text-align: right;\n",
       "    }\n",
       "</style>\n",
       "<table border=\"1\" class=\"dataframe\">\n",
       "  <thead>\n",
       "    <tr style=\"text-align: right;\">\n",
       "      <th></th>\n",
       "      <th>Region</th>\n",
       "      <th>Total Revenue</th>\n",
       "      <th>Total Profit</th>\n",
       "      <th>Total Cost</th>\n",
       "    </tr>\n",
       "  </thead>\n",
       "  <tbody>\n",
       "    <tr>\n",
       "      <th>0</th>\n",
       "      <td>Asia</td>\n",
       "      <td>19293401219.82</td>\n",
       "      <td>5707511516.76</td>\n",
       "      <td>13585889703.06</td>\n",
       "    </tr>\n",
       "    <tr>\n",
       "      <th>1</th>\n",
       "      <td>Australia and Oceania</td>\n",
       "      <td>10701522223.73</td>\n",
       "      <td>3175423561.38</td>\n",
       "      <td>7526098662.35</td>\n",
       "    </tr>\n",
       "    <tr>\n",
       "      <th>2</th>\n",
       "      <td>Central America and the Caribbean</td>\n",
       "      <td>14553730165.29</td>\n",
       "      <td>4287210522.47</td>\n",
       "      <td>10266519642.82</td>\n",
       "    </tr>\n",
       "    <tr>\n",
       "      <th>3</th>\n",
       "      <td>Europe</td>\n",
       "      <td>34241150923.39</td>\n",
       "      <td>10080579491.05</td>\n",
       "      <td>24160571432.34</td>\n",
       "    </tr>\n",
       "    <tr>\n",
       "      <th>4</th>\n",
       "      <td>Middle East and North Africa</td>\n",
       "      <td>16921412794.52</td>\n",
       "      <td>4979534378.88</td>\n",
       "      <td>11941878415.64</td>\n",
       "    </tr>\n",
       "    <tr>\n",
       "      <th>5</th>\n",
       "      <td>North America</td>\n",
       "      <td>2937002333.49</td>\n",
       "      <td>872551616.84</td>\n",
       "      <td>2064450716.65</td>\n",
       "    </tr>\n",
       "    <tr>\n",
       "      <th>6</th>\n",
       "      <td>Sub-Saharan Africa</td>\n",
       "      <td>34958453406.17</td>\n",
       "      <td>10306312642.23</td>\n",
       "      <td>24652140763.94</td>\n",
       "    </tr>\n",
       "  </tbody>\n",
       "</table>\n",
       "</div>"
      ],
      "text/plain": [
       "                              Region  Total Revenue   Total Profit  \\\n",
       "0                               Asia 19293401219.82  5707511516.76   \n",
       "1              Australia and Oceania 10701522223.73  3175423561.38   \n",
       "2  Central America and the Caribbean 14553730165.29  4287210522.47   \n",
       "3                             Europe 34241150923.39 10080579491.05   \n",
       "4       Middle East and North Africa 16921412794.52  4979534378.88   \n",
       "5                      North America  2937002333.49   872551616.84   \n",
       "6                 Sub-Saharan Africa 34958453406.17 10306312642.23   \n",
       "\n",
       "      Total Cost  \n",
       "0 13585889703.06  \n",
       "1  7526098662.35  \n",
       "2 10266519642.82  \n",
       "3 24160571432.34  \n",
       "4 11941878415.64  \n",
       "5  2064450716.65  \n",
       "6 24652140763.94  "
      ]
     },
     "execution_count": 126,
     "metadata": {},
     "output_type": "execute_result"
    }
   ],
   "source": [
    "region_sales"
   ]
  },
  {
   "cell_type": "code",
   "execution_count": 132,
   "id": "6a7fe4c3",
   "metadata": {},
   "outputs": [
    {
     "data": {
      "image/png": "[encoded data removed]",
      "text/plain": [
       "<Figure size 1000x1000 with 1 Axes>"
      ]
     },
     "metadata": {},
     "output_type": "display_data"
    }
   ],
   "source": [
    "plt.figure(figsize = (10,10))\n",
    "sns.barplot(data= region_sales , x = 'Region', y = 'Total Revenue')\n",
    "plt.show()"
   ]
  },
  {
   "cell_type": "code",
   "execution_count": 131,
   "id": "4d785290",
   "metadata": {},
   "outputs": [
    {
     "data": {
      "text/plain": [
       "<AxesSubplot:xlabel='Region', ylabel='Total Cost'>"
      ]
     },
     "execution_count": 131,
     "metadata": {},
     "output_type": "execute_result"
    },
    {
     "data": {
      "image/png": "[encoded data removed]",
      "text/plain": [
       "<Figure size 1000x1000 with 1 Axes>"
      ]
     },
     "metadata": {},
     "output_type": "display_data"
    }
   ],
   "source": [
    "plt.figure(figsize = (10,10))\n",
    "sns.barplot(data= region_sales , x = 'Region', y = 'Total Cost')"
   ]
  },
  {
   "cell_type": "code",
   "execution_count": 130,
   "id": "66d4eddd",
   "metadata": {},
   "outputs": [
    {
     "data": {
      "text/plain": [
       "<AxesSubplot:xlabel='Region', ylabel='Total Profit'>"
      ]
     },
     "execution_count": 130,
     "metadata": {},
     "output_type": "execute_result"
    },
    {
     "data": {
      "image/png": "[encoded data removed]",
      "text/plain": [
       "<Figure size 1000x1000 with 1 Axes>"
      ]
     },
     "metadata": {},
     "output_type": "display_data"
    }
   ],
   "source": [
    "plt.figure(figsize = (10,10))\n",
    "sns.barplot(data= region_sales , x = 'Region', y = 'Total Profit')"
   ]
  },
  {
   "cell_type": "code",
   "execution_count": null,
   "id": "b4e02963",
   "metadata": {},
   "outputs": [],
   "source": []
  }
 ],
 "metadata": {
  "kernelspec": {
   "display_name": "Python 3 (ipykernel)",
   "language": "python",
   "name": "python3"
  },
  "language_info": {
   "codemirror_mode": {
    "name": "ipython",
    "version": 3
   },
   "file_extension": ".py",
   "mimetype": "text/x-python",
   "name": "python",
   "nbconvert_exporter": "python",
   "pygments_lexer": "ipython3",
   "version": "3.12.7"
  }
 },
 "nbformat": 4,
 "nbformat_minor": 5
}
